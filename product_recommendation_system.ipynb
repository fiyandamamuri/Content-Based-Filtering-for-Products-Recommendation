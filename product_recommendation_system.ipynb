{
  "cells": [
    {
      "cell_type": "markdown",
      "metadata": {
        "id": "rlb9nFzdL3OD"
      },
      "source": [
        "# **Product Recommendation System : BigBasket Products Datasets**\n",
        "- Nama: Fiyanda Ma'muri\n",
        "- Email: fiyandamamuri@gmail.com\n",
        "- ID Dicoding: fiyandamamuri\n",
        "\n",
        "\n",
        "Dataset: https://www.kaggle.com/datasets/surajjha101/bigbasket-entire-product-list-28k-datapoints"
      ]
    },
    {
      "cell_type": "markdown",
      "metadata": {
        "id": "EloOxck5fIJq"
      },
      "source": [
        "## Project Overview\n",
        "\n",
        "Notebook ini berisi implementasi sistem rekomendasi produk menggunakan dataset dari BigBasket. Tujuan utama proyek ini adalah membangun sistem rekomendasi:\n",
        "- **Content-Based Filtering (CBF)**: merekomendasikan produk berdasarkan kemiripan atribut produk.\n",
        "\n",
        "Sistem ini dirancang untuk membantu pengguna menemukan produk relevan dari ribuan item dalam katalog BigBasket."
      ]
    },
    {
      "cell_type": "markdown",
      "metadata": {
        "id": "p9DqNDlOfQVR"
      },
      "source": [
        "## Business Understanding\n",
        "\n",
        "BigBasket adalah platform e-commerce berbasis grosir dan ritel yang menjual beragam produk rumah tangga, makanan, dan kebutuhan harian. Dengan ribuan produk tersedia, pengguna dapat mengalami kebingungan dalam memilih.\n",
        "\n",
        "**Tujuan bisnis** dari proyek ini adalah:\n",
        "- Meningkatkan kenyamanan pengguna dalam menemukan produk.\n",
        "- Meningkatkan konversi dan retensi pelanggan melalui rekomendasi yang relevan.\n",
        "- Mengurangi waktu eksplorasi dengan menyarankan produk yang sesuai preferensi atau kebiasaan belanja pengguna."
      ]
    },
    {
      "cell_type": "markdown",
      "metadata": {
        "id": "pUj7lvrNffFc"
      },
      "source": [
        "## Data Understanding\n",
        "\n",
        "Dataset yang digunakan berasal dari situs [Kaggle](https://www.kaggle.com/datasets/surajjha101/bigbasket-entire-product-list-28k-datapoints) dan berisi daftar lebih dari 28.000 produk yang dijual di platform e-commerce BigBasket. Dataset ini memiliki **10 atribut utama** yang masing-masing memberikan informasi penting mengenai setiap produk. Berikut ini adalah penjelasan masing-masing atribut:\n",
        "\n",
        "| Nama Kolom      | Deskripsi                                                                 |\n",
        "|------------------|--------------------------------------------------------------------------|\n",
        "| `index`          | Nomor indeks baris pada dataset, hanya sebagai penanda urutan data.      |\n",
        "| `product`        | Nama atau judul dari produk sebagaimana tercantum di situs BigBasket.     |\n",
        "| `category`       | Kategori utama produk, seperti \"Beauty & Hygiene\", \"Foodgrains\", dll.     |\n",
        "| `sub_category`   | Sub-kategori dari produk yang lebih spesifik dari kategori utama.         |\n",
        "| `brand`          | Merek atau nama brand dari produk, seperti \"Fresho\", \"bb Royal\", dll.     |\n",
        "| `sale_price`     | Harga jual produk di situs BigBasket (harga setelah diskon).              |\n",
        "| `market_price`   | Harga pasar normal produk sebelum diskon.                                 |\n",
        "| `type`           | Jenis atau bentuk produk, seperti \"Oil\", \"Serum\", \"Tablet\", dll.          |\n",
        "| `rating`         | Nilai rating dari pengguna, dalam skala 1 sampai 5.                       |\n",
        "| `description`    | Deskripsi lengkap produk yang menjelaskan manfaat dan informasi lainnya.  |\n",
        "\n",
        "Dataset ini memiliki banyak nilai kosong pada kolom `rating` dan `description`, serta mengandung data multikategori yang dipisahkan oleh karakter seperti `&`, `,`, atau baris baru. Oleh karena itu, diperlukan beberapa tahapan pembersihan dan transformasi data sebelum digunakan dalam sistem rekomendasi. Namun karena saya akan menerapkan sistem rekomendasi dengan Content-Based Filtering, maka fitur yang dipakai merupakan fitur yang berbasis konten yang akan di jelaskan di bagian Data Preparation."
      ]
    },
    {
      "cell_type": "markdown",
      "metadata": {
        "id": "56uGOt9BLiDG"
      },
      "source": [
        "### Import Library"
      ]
    },
    {
      "cell_type": "code",
      "execution_count": 1,
      "metadata": {
        "colab": {
          "base_uri": "https://localhost:8080/"
        },
        "id": "IAfiUq9DMXKa",
        "outputId": "d0cebfa1-3a66-48f4-8744-7448c8d568b4"
      },
      "outputs": [
        {
          "name": "stdout",
          "output_type": "stream",
          "text": [
            "Requirement already satisfied: numpy==1.24.4 in /usr/local/lib/python3.11/dist-packages (1.24.4)\n",
            "Collecting scikit-surprise\n",
            "  Using cached scikit_surprise-1.1.4.tar.gz (154 kB)\n",
            "  Installing build dependencies ... \u001b[?25l\u001b[?25hdone\n",
            "  Getting requirements to build wheel ... \u001b[?25l\u001b[?25hdone\n",
            "  Preparing metadata (pyproject.toml) ... \u001b[?25l\u001b[?25hdone\n",
            "Requirement already satisfied: joblib>=1.2.0 in /usr/local/lib/python3.11/dist-packages (from scikit-surprise) (1.5.1)\n",
            "Requirement already satisfied: numpy>=1.19.5 in /usr/local/lib/python3.11/dist-packages (from scikit-surprise) (1.24.4)\n",
            "Requirement already satisfied: scipy>=1.6.0 in /usr/local/lib/python3.11/dist-packages (from scikit-surprise) (1.15.3)\n",
            "Building wheels for collected packages: scikit-surprise\n",
            "  Building wheel for scikit-surprise (pyproject.toml) ... \u001b[?25l\u001b[?25hdone\n",
            "  Created wheel for scikit-surprise: filename=scikit_surprise-1.1.4-cp311-cp311-linux_x86_64.whl size=2469553 sha256=4de38d255fad6a592f6cbb6e5b113fa3e4d41eda95c2953f3fdbd6a951b35fdb\n",
            "  Stored in directory: /root/.cache/pip/wheels/2a/8f/6e/7e2899163e2d85d8266daab4aa1cdabec7a6c56f83c015b5af\n",
            "Successfully built scikit-surprise\n",
            "Installing collected packages: scikit-surprise\n",
            "Successfully installed scikit-surprise-1.1.4\n"
          ]
        }
      ],
      "source": [
        "!pip install numpy==1.24.4\n",
        "!pip install scikit-surprise --no-binary scikit-surprise"
      ]
    },
    {
      "cell_type": "code",
      "execution_count": 2,
      "metadata": {
        "id": "DtP2wCzDJpBg"
      },
      "outputs": [],
      "source": [
        "import pandas as pd\n",
        "import numpy as np\n",
        "import matplotlib.pyplot as plt\n",
        "import seaborn as sns\n",
        "sns.set(style=\"whitegrid\")\n",
        "import re\n",
        "from sklearn.feature_extraction.text import TfidfVectorizer\n",
        "from sklearn.metrics.pairwise import cosine_similarity\n",
        "from sklearn.metrics import precision_score\n",
        "from sklearn.preprocessing import LabelEncoder\n",
        "from sklearn.model_selection import train_test_split\n",
        "import random"
      ]
    },
    {
      "cell_type": "markdown",
      "metadata": {
        "id": "Tx2-_VV0Jgo5"
      },
      "source": [
        "Mengimpor berbagai library yang dibutuhkan untuk analisis data, visualisasi, pemrosesan teks, dan pembangunan sistem rekomendasi.\n",
        "- pandas, numpy: untuk manipulasi dan analisis data\n",
        "- matplotlib, seaborn: untuk visualisasi eksploratif\n",
        "- sklearn: untuk ekstraksi fitur, evaluasi, dan pemodelan konten\n",
        "- surprise: untuk implementasi algoritma Collaborative Filtering berbasis matrix factorization (SVD)\n",
        "- re: untuk pemrosesan teks dasar\n",
        "- random: untuk pemilihan acak\n",
        "\n",
        "Instalasi tambahan dilakukan untuk versi spesifik numpy dan scikit-surprise.\n",
        "\n"
      ]
    },
    {
      "cell_type": "markdown",
      "metadata": {
        "id": "Ugg_fiZOLkyY"
      },
      "source": [
        "### Data Loading"
      ]
    },
    {
      "cell_type": "code",
      "execution_count": 3,
      "metadata": {
        "colab": {
          "base_uri": "https://localhost:8080/",
          "height": 206
        },
        "id": "RDM_I156LnXQ",
        "outputId": "c1c3a878-59ab-4c7a-b2a6-6af388578554"
      },
      "outputs": [
        {
          "data": {
            "application/vnd.google.colaboratory.intrinsic+json": {
              "summary": "{\n  \"name\": \"df\",\n  \"rows\": 27555,\n  \"fields\": [\n    {\n      \"column\": \"index\",\n      \"properties\": {\n        \"dtype\": \"number\",\n        \"std\": 7954,\n        \"min\": 1,\n        \"max\": 27555,\n        \"num_unique_values\": 27555,\n        \"samples\": [\n          16202,\n          24963,\n          18965\n        ],\n        \"semantic_type\": \"\",\n        \"description\": \"\"\n      }\n    },\n    {\n      \"column\": \"product\",\n      \"properties\": {\n        \"dtype\": \"string\",\n        \"num_unique_values\": 23540,\n        \"samples\": [\n          \"Pure Impact Body Wash With Purifying Micro Particles - Shower Gel For Body, Face & Hair\",\n          \"Premium Care XXL - 30 Diaper Pants\",\n          \"Tomato - Green\"\n        ],\n        \"semantic_type\": \"\",\n        \"description\": \"\"\n      }\n    },\n    {\n      \"column\": \"category\",\n      \"properties\": {\n        \"dtype\": \"category\",\n        \"num_unique_values\": 11,\n        \"samples\": [\n          \"Snacks & Branded Foods\",\n          \"Beauty & Hygiene\",\n          \"Fruits & Vegetables\"\n        ],\n        \"semantic_type\": \"\",\n        \"description\": \"\"\n      }\n    },\n    {\n      \"column\": \"sub_category\",\n      \"properties\": {\n        \"dtype\": \"category\",\n        \"num_unique_values\": 90,\n        \"samples\": [\n          \"Crockery & Cutlery\",\n          \"Fragrances & Deos\",\n          \"Energy & Soft Drinks\"\n        ],\n        \"semantic_type\": \"\",\n        \"description\": \"\"\n      }\n    },\n    {\n      \"column\": \"brand\",\n      \"properties\": {\n        \"dtype\": \"category\",\n        \"num_unique_values\": 2313,\n        \"samples\": [\n          \"Red Label\",\n          \"Lomani\",\n          \"Happily Unmarried\"\n        ],\n        \"semantic_type\": \"\",\n        \"description\": \"\"\n      }\n    },\n    {\n      \"column\": \"sale_price\",\n      \"properties\": {\n        \"dtype\": \"number\",\n        \"std\": 486.26311554286923,\n        \"min\": 2.45,\n        \"max\": 12500.0,\n        \"num_unique_values\": 3256,\n        \"samples\": [\n          2880.0,\n          40.0,\n          293.02\n        ],\n        \"semantic_type\": \"\",\n        \"description\": \"\"\n      }\n    },\n    {\n      \"column\": \"market_price\",\n      \"properties\": {\n        \"dtype\": \"number\",\n        \"std\": 581.7307174034938,\n        \"min\": 3.0,\n        \"max\": 12500.0,\n        \"num_unique_values\": 1348,\n        \"samples\": [\n          192.0,\n          1164.0,\n          74.38\n        ],\n        \"semantic_type\": \"\",\n        \"description\": \"\"\n      }\n    },\n    {\n      \"column\": \"type\",\n      \"properties\": {\n        \"dtype\": \"category\",\n        \"num_unique_values\": 426,\n        \"samples\": [\n          \"Nappies & Rash Cream\",\n          \"Hair Removal\",\n          \"Crackers & Digestive\"\n        ],\n        \"semantic_type\": \"\",\n        \"description\": \"\"\n      }\n    },\n    {\n      \"column\": \"rating\",\n      \"properties\": {\n        \"dtype\": \"number\",\n        \"std\": 0.739062982864513,\n        \"min\": 1.0,\n        \"max\": 5.0,\n        \"num_unique_values\": 40,\n        \"samples\": [\n          3.0,\n          1.5,\n          3.9\n        ],\n        \"semantic_type\": \"\",\n        \"description\": \"\"\n      }\n    },\n    {\n      \"column\": \"description\",\n      \"properties\": {\n        \"dtype\": \"string\",\n        \"num_unique_values\": 21944,\n        \"samples\": [\n          \"Premium Day Face Cream:Lightweight formula that will give your skin a daily boost of radiance and hydration. Packed with the goodness of skin brightening, Vitamin C Why Is It Special?- It contains the Most Stable & Effective form of Vitamin C, 3-O Ethyl Ascorbic Acid. It is the next generation Vitamin C that really works in improving skin health.- Vitamin C is a proven skin-brightening agent known for its antioxidant properties for decades. It boosts collagen formation and effectively targets visible signs of ageing, giving skin the much-needed glow. - The presence of Vitamin E, Pro-Vitamin B5 & Vitamin B3 helps awaken and clarify your complexion, revealing a natural healthy-looking glow. - SPF 30 & PA+++ provide the highest level of protection against UVA & UVB rays of the sun. The mineral-based sun protection agents shield the skin against the harsh solar radiation, minimizing skin dryness and dullness. - Multiple natural oils are combined for intense hydration and nourishment. Antioxidant-rich botanical extracts are added to keep skin moisturized, smooth & soft. - St.Botanica is a PETA-certified cruelty-free brand. The product does not contain any harmful chemicals & is free from parabens, silicones or mineral oils.\",\n          \"Kari Kari Japanese premium snacks are the exciting irresistible new taste of crunch. Lite and crispy, the savoury rice crackers are mixed with peanuts to make hearty, wholesome snack with delicious, bold and zesty taste with every bite.\",\n          \"Safely store your food in this pink lunch box. The lunch box is made plastic which gives the container durability and sturdiness. The rectangular containers come with an airtight lid to keep food fresh for long. The wide mouth opening of the lunch makes it easy to fill food and easy to clean. The set makes a great gift option for special days.\"\n        ],\n        \"semantic_type\": \"\",\n        \"description\": \"\"\n      }\n    }\n  ]\n}",
              "type": "dataframe",
              "variable_name": "df"
            },
            "text/html": [
              "\n",
              "  <div id=\"df-ac436034-4b6d-4909-aeda-0ffeae61bf05\" class=\"colab-df-container\">\n",
              "    <div>\n",
              "<style scoped>\n",
              "    .dataframe tbody tr th:only-of-type {\n",
              "        vertical-align: middle;\n",
              "    }\n",
              "\n",
              "    .dataframe tbody tr th {\n",
              "        vertical-align: top;\n",
              "    }\n",
              "\n",
              "    .dataframe thead th {\n",
              "        text-align: right;\n",
              "    }\n",
              "</style>\n",
              "<table border=\"1\" class=\"dataframe\">\n",
              "  <thead>\n",
              "    <tr style=\"text-align: right;\">\n",
              "      <th></th>\n",
              "      <th>index</th>\n",
              "      <th>product</th>\n",
              "      <th>category</th>\n",
              "      <th>sub_category</th>\n",
              "      <th>brand</th>\n",
              "      <th>sale_price</th>\n",
              "      <th>market_price</th>\n",
              "      <th>type</th>\n",
              "      <th>rating</th>\n",
              "      <th>description</th>\n",
              "    </tr>\n",
              "  </thead>\n",
              "  <tbody>\n",
              "    <tr>\n",
              "      <th>0</th>\n",
              "      <td>1</td>\n",
              "      <td>Garlic Oil - Vegetarian Capsule 500 mg</td>\n",
              "      <td>Beauty &amp; Hygiene</td>\n",
              "      <td>Hair Care</td>\n",
              "      <td>Sri Sri Ayurveda</td>\n",
              "      <td>220.0</td>\n",
              "      <td>220.0</td>\n",
              "      <td>Hair Oil &amp; Serum</td>\n",
              "      <td>4.1</td>\n",
              "      <td>This Product contains Garlic Oil that is known...</td>\n",
              "    </tr>\n",
              "    <tr>\n",
              "      <th>1</th>\n",
              "      <td>2</td>\n",
              "      <td>Water Bottle - Orange</td>\n",
              "      <td>Kitchen, Garden &amp; Pets</td>\n",
              "      <td>Storage &amp; Accessories</td>\n",
              "      <td>Mastercook</td>\n",
              "      <td>180.0</td>\n",
              "      <td>180.0</td>\n",
              "      <td>Water &amp; Fridge Bottles</td>\n",
              "      <td>2.3</td>\n",
              "      <td>Each product is microwave safe (without lid), ...</td>\n",
              "    </tr>\n",
              "    <tr>\n",
              "      <th>2</th>\n",
              "      <td>3</td>\n",
              "      <td>Brass Angle Deep - Plain, No.2</td>\n",
              "      <td>Cleaning &amp; Household</td>\n",
              "      <td>Pooja Needs</td>\n",
              "      <td>Trm</td>\n",
              "      <td>119.0</td>\n",
              "      <td>250.0</td>\n",
              "      <td>Lamp &amp; Lamp Oil</td>\n",
              "      <td>3.4</td>\n",
              "      <td>A perfect gift for all occasions, be it your m...</td>\n",
              "    </tr>\n",
              "    <tr>\n",
              "      <th>3</th>\n",
              "      <td>4</td>\n",
              "      <td>Cereal Flip Lid Container/Storage Jar - Assort...</td>\n",
              "      <td>Cleaning &amp; Household</td>\n",
              "      <td>Bins &amp; Bathroom Ware</td>\n",
              "      <td>Nakoda</td>\n",
              "      <td>149.0</td>\n",
              "      <td>176.0</td>\n",
              "      <td>Laundry, Storage Baskets</td>\n",
              "      <td>3.7</td>\n",
              "      <td>Multipurpose container with an attractive desi...</td>\n",
              "    </tr>\n",
              "    <tr>\n",
              "      <th>4</th>\n",
              "      <td>5</td>\n",
              "      <td>Creme Soft Soap - For Hands &amp; Body</td>\n",
              "      <td>Beauty &amp; Hygiene</td>\n",
              "      <td>Bath &amp; Hand Wash</td>\n",
              "      <td>Nivea</td>\n",
              "      <td>162.0</td>\n",
              "      <td>162.0</td>\n",
              "      <td>Bathing Bars &amp; Soaps</td>\n",
              "      <td>4.4</td>\n",
              "      <td>Nivea Creme Soft Soap gives your skin the best...</td>\n",
              "    </tr>\n",
              "  </tbody>\n",
              "</table>\n",
              "</div>\n",
              "    <div class=\"colab-df-buttons\">\n",
              "\n",
              "  <div class=\"colab-df-container\">\n",
              "    <button class=\"colab-df-convert\" onclick=\"convertToInteractive('df-ac436034-4b6d-4909-aeda-0ffeae61bf05')\"\n",
              "            title=\"Convert this dataframe to an interactive table.\"\n",
              "            style=\"display:none;\">\n",
              "\n",
              "  <svg xmlns=\"http://www.w3.org/2000/svg\" height=\"24px\" viewBox=\"0 -960 960 960\">\n",
              "    <path d=\"M120-120v-720h720v720H120Zm60-500h600v-160H180v160Zm220 220h160v-160H400v160Zm0 220h160v-160H400v160ZM180-400h160v-160H180v160Zm440 0h160v-160H620v160ZM180-180h160v-160H180v160Zm440 0h160v-160H620v160Z\"/>\n",
              "  </svg>\n",
              "    </button>\n",
              "\n",
              "  <style>\n",
              "    .colab-df-container {\n",
              "      display:flex;\n",
              "      gap: 12px;\n",
              "    }\n",
              "\n",
              "    .colab-df-convert {\n",
              "      background-color: #E8F0FE;\n",
              "      border: none;\n",
              "      border-radius: 50%;\n",
              "      cursor: pointer;\n",
              "      display: none;\n",
              "      fill: #1967D2;\n",
              "      height: 32px;\n",
              "      padding: 0 0 0 0;\n",
              "      width: 32px;\n",
              "    }\n",
              "\n",
              "    .colab-df-convert:hover {\n",
              "      background-color: #E2EBFA;\n",
              "      box-shadow: 0px 1px 2px rgba(60, 64, 67, 0.3), 0px 1px 3px 1px rgba(60, 64, 67, 0.15);\n",
              "      fill: #174EA6;\n",
              "    }\n",
              "\n",
              "    .colab-df-buttons div {\n",
              "      margin-bottom: 4px;\n",
              "    }\n",
              "\n",
              "    [theme=dark] .colab-df-convert {\n",
              "      background-color: #3B4455;\n",
              "      fill: #D2E3FC;\n",
              "    }\n",
              "\n",
              "    [theme=dark] .colab-df-convert:hover {\n",
              "      background-color: #434B5C;\n",
              "      box-shadow: 0px 1px 3px 1px rgba(0, 0, 0, 0.15);\n",
              "      filter: drop-shadow(0px 1px 2px rgba(0, 0, 0, 0.3));\n",
              "      fill: #FFFFFF;\n",
              "    }\n",
              "  </style>\n",
              "\n",
              "    <script>\n",
              "      const buttonEl =\n",
              "        document.querySelector('#df-ac436034-4b6d-4909-aeda-0ffeae61bf05 button.colab-df-convert');\n",
              "      buttonEl.style.display =\n",
              "        google.colab.kernel.accessAllowed ? 'block' : 'none';\n",
              "\n",
              "      async function convertToInteractive(key) {\n",
              "        const element = document.querySelector('#df-ac436034-4b6d-4909-aeda-0ffeae61bf05');\n",
              "        const dataTable =\n",
              "          await google.colab.kernel.invokeFunction('convertToInteractive',\n",
              "                                                    [key], {});\n",
              "        if (!dataTable) return;\n",
              "\n",
              "        const docLinkHtml = 'Like what you see? Visit the ' +\n",
              "          '<a target=\"_blank\" href=https://colab.research.google.com/notebooks/data_table.ipynb>data table notebook</a>'\n",
              "          + ' to learn more about interactive tables.';\n",
              "        element.innerHTML = '';\n",
              "        dataTable['output_type'] = 'display_data';\n",
              "        await google.colab.output.renderOutput(dataTable, element);\n",
              "        const docLink = document.createElement('div');\n",
              "        docLink.innerHTML = docLinkHtml;\n",
              "        element.appendChild(docLink);\n",
              "      }\n",
              "    </script>\n",
              "  </div>\n",
              "\n",
              "\n",
              "    <div id=\"df-229adb13-b119-46ae-ae1c-02eb84042866\">\n",
              "      <button class=\"colab-df-quickchart\" onclick=\"quickchart('df-229adb13-b119-46ae-ae1c-02eb84042866')\"\n",
              "                title=\"Suggest charts\"\n",
              "                style=\"display:none;\">\n",
              "\n",
              "<svg xmlns=\"http://www.w3.org/2000/svg\" height=\"24px\"viewBox=\"0 0 24 24\"\n",
              "     width=\"24px\">\n",
              "    <g>\n",
              "        <path d=\"M19 3H5c-1.1 0-2 .9-2 2v14c0 1.1.9 2 2 2h14c1.1 0 2-.9 2-2V5c0-1.1-.9-2-2-2zM9 17H7v-7h2v7zm4 0h-2V7h2v10zm4 0h-2v-4h2v4z\"/>\n",
              "    </g>\n",
              "</svg>\n",
              "      </button>\n",
              "\n",
              "<style>\n",
              "  .colab-df-quickchart {\n",
              "      --bg-color: #E8F0FE;\n",
              "      --fill-color: #1967D2;\n",
              "      --hover-bg-color: #E2EBFA;\n",
              "      --hover-fill-color: #174EA6;\n",
              "      --disabled-fill-color: #AAA;\n",
              "      --disabled-bg-color: #DDD;\n",
              "  }\n",
              "\n",
              "  [theme=dark] .colab-df-quickchart {\n",
              "      --bg-color: #3B4455;\n",
              "      --fill-color: #D2E3FC;\n",
              "      --hover-bg-color: #434B5C;\n",
              "      --hover-fill-color: #FFFFFF;\n",
              "      --disabled-bg-color: #3B4455;\n",
              "      --disabled-fill-color: #666;\n",
              "  }\n",
              "\n",
              "  .colab-df-quickchart {\n",
              "    background-color: var(--bg-color);\n",
              "    border: none;\n",
              "    border-radius: 50%;\n",
              "    cursor: pointer;\n",
              "    display: none;\n",
              "    fill: var(--fill-color);\n",
              "    height: 32px;\n",
              "    padding: 0;\n",
              "    width: 32px;\n",
              "  }\n",
              "\n",
              "  .colab-df-quickchart:hover {\n",
              "    background-color: var(--hover-bg-color);\n",
              "    box-shadow: 0 1px 2px rgba(60, 64, 67, 0.3), 0 1px 3px 1px rgba(60, 64, 67, 0.15);\n",
              "    fill: var(--button-hover-fill-color);\n",
              "  }\n",
              "\n",
              "  .colab-df-quickchart-complete:disabled,\n",
              "  .colab-df-quickchart-complete:disabled:hover {\n",
              "    background-color: var(--disabled-bg-color);\n",
              "    fill: var(--disabled-fill-color);\n",
              "    box-shadow: none;\n",
              "  }\n",
              "\n",
              "  .colab-df-spinner {\n",
              "    border: 2px solid var(--fill-color);\n",
              "    border-color: transparent;\n",
              "    border-bottom-color: var(--fill-color);\n",
              "    animation:\n",
              "      spin 1s steps(1) infinite;\n",
              "  }\n",
              "\n",
              "  @keyframes spin {\n",
              "    0% {\n",
              "      border-color: transparent;\n",
              "      border-bottom-color: var(--fill-color);\n",
              "      border-left-color: var(--fill-color);\n",
              "    }\n",
              "    20% {\n",
              "      border-color: transparent;\n",
              "      border-left-color: var(--fill-color);\n",
              "      border-top-color: var(--fill-color);\n",
              "    }\n",
              "    30% {\n",
              "      border-color: transparent;\n",
              "      border-left-color: var(--fill-color);\n",
              "      border-top-color: var(--fill-color);\n",
              "      border-right-color: var(--fill-color);\n",
              "    }\n",
              "    40% {\n",
              "      border-color: transparent;\n",
              "      border-right-color: var(--fill-color);\n",
              "      border-top-color: var(--fill-color);\n",
              "    }\n",
              "    60% {\n",
              "      border-color: transparent;\n",
              "      border-right-color: var(--fill-color);\n",
              "    }\n",
              "    80% {\n",
              "      border-color: transparent;\n",
              "      border-right-color: var(--fill-color);\n",
              "      border-bottom-color: var(--fill-color);\n",
              "    }\n",
              "    90% {\n",
              "      border-color: transparent;\n",
              "      border-bottom-color: var(--fill-color);\n",
              "    }\n",
              "  }\n",
              "</style>\n",
              "\n",
              "      <script>\n",
              "        async function quickchart(key) {\n",
              "          const quickchartButtonEl =\n",
              "            document.querySelector('#' + key + ' button');\n",
              "          quickchartButtonEl.disabled = true;  // To prevent multiple clicks.\n",
              "          quickchartButtonEl.classList.add('colab-df-spinner');\n",
              "          try {\n",
              "            const charts = await google.colab.kernel.invokeFunction(\n",
              "                'suggestCharts', [key], {});\n",
              "          } catch (error) {\n",
              "            console.error('Error during call to suggestCharts:', error);\n",
              "          }\n",
              "          quickchartButtonEl.classList.remove('colab-df-spinner');\n",
              "          quickchartButtonEl.classList.add('colab-df-quickchart-complete');\n",
              "        }\n",
              "        (() => {\n",
              "          let quickchartButtonEl =\n",
              "            document.querySelector('#df-229adb13-b119-46ae-ae1c-02eb84042866 button');\n",
              "          quickchartButtonEl.style.display =\n",
              "            google.colab.kernel.accessAllowed ? 'block' : 'none';\n",
              "        })();\n",
              "      </script>\n",
              "    </div>\n",
              "\n",
              "    </div>\n",
              "  </div>\n"
            ],
            "text/plain": [
              "   index                                            product  \\\n",
              "0      1             Garlic Oil - Vegetarian Capsule 500 mg   \n",
              "1      2                              Water Bottle - Orange   \n",
              "2      3                     Brass Angle Deep - Plain, No.2   \n",
              "3      4  Cereal Flip Lid Container/Storage Jar - Assort...   \n",
              "4      5                 Creme Soft Soap - For Hands & Body   \n",
              "\n",
              "                 category           sub_category              brand  \\\n",
              "0        Beauty & Hygiene              Hair Care  Sri Sri Ayurveda    \n",
              "1  Kitchen, Garden & Pets  Storage & Accessories         Mastercook   \n",
              "2    Cleaning & Household            Pooja Needs                Trm   \n",
              "3    Cleaning & Household   Bins & Bathroom Ware             Nakoda   \n",
              "4        Beauty & Hygiene       Bath & Hand Wash              Nivea   \n",
              "\n",
              "   sale_price  market_price                      type  rating  \\\n",
              "0       220.0         220.0          Hair Oil & Serum     4.1   \n",
              "1       180.0         180.0    Water & Fridge Bottles     2.3   \n",
              "2       119.0         250.0           Lamp & Lamp Oil     3.4   \n",
              "3       149.0         176.0  Laundry, Storage Baskets     3.7   \n",
              "4       162.0         162.0      Bathing Bars & Soaps     4.4   \n",
              "\n",
              "                                         description  \n",
              "0  This Product contains Garlic Oil that is known...  \n",
              "1  Each product is microwave safe (without lid), ...  \n",
              "2  A perfect gift for all occasions, be it your m...  \n",
              "3  Multipurpose container with an attractive desi...  \n",
              "4  Nivea Creme Soft Soap gives your skin the best...  "
            ]
          },
          "execution_count": 3,
          "metadata": {},
          "output_type": "execute_result"
        }
      ],
      "source": [
        "df = pd.read_csv('BigBasket Products.csv')\n",
        "\n",
        "df.head()"
      ]
    },
    {
      "cell_type": "markdown",
      "metadata": {
        "id": "W8mFbBeeJxXN"
      },
      "source": [
        "Memuat dataset BigBasket Products dari file CSV ke dalam DataFrame df untuk analisis lebih lanjut. Kemudian menampilkan 5 baris pertama sebagai gambaran awal struktur dan isi data."
      ]
    },
    {
      "cell_type": "markdown",
      "metadata": {
        "id": "Z18OErW4LtkX"
      },
      "source": [
        "### Exploratory Data Analysis (EDA)"
      ]
    },
    {
      "cell_type": "code",
      "execution_count": 4,
      "metadata": {
        "colab": {
          "base_uri": "https://localhost:8080/"
        },
        "id": "LpoaAs8PLuze",
        "outputId": "192e1c98-bc82-4241-9855-8ac923e2ea52"
      },
      "outputs": [
        {
          "name": "stdout",
          "output_type": "stream",
          "text": [
            "<class 'pandas.core.frame.DataFrame'>\n",
            "RangeIndex: 27555 entries, 0 to 27554\n",
            "Data columns (total 10 columns):\n",
            " #   Column        Non-Null Count  Dtype  \n",
            "---  ------        --------------  -----  \n",
            " 0   index         27555 non-null  int64  \n",
            " 1   product       27554 non-null  object \n",
            " 2   category      27555 non-null  object \n",
            " 3   sub_category  27555 non-null  object \n",
            " 4   brand         27554 non-null  object \n",
            " 5   sale_price    27555 non-null  float64\n",
            " 6   market_price  27555 non-null  float64\n",
            " 7   type          27555 non-null  object \n",
            " 8   rating        18929 non-null  float64\n",
            " 9   description   27440 non-null  object \n",
            "dtypes: float64(3), int64(1), object(6)\n",
            "memory usage: 2.1+ MB\n"
          ]
        }
      ],
      "source": [
        "df.info()"
      ]
    },
    {
      "cell_type": "markdown",
      "metadata": {
        "id": "2kzbdK-4J4dR"
      },
      "source": [
        "Menampilkan informasi umum mengenai struktur dataset, termasuk jumlah baris, jumlah kolom, tipe data tiap kolom, serta jumlah nilai non-null. Dari output ini, terlihat bahwa terdapat nilai hilang khususnya pada kolom product, brand, rating, dan description."
      ]
    },
    {
      "cell_type": "code",
      "execution_count": 5,
      "metadata": {
        "colab": {
          "base_uri": "https://localhost:8080/",
          "height": 300
        },
        "id": "q7I-10ZkZwIB",
        "outputId": "ae49a1ac-9f1b-4e08-8375-4c9045e9b377"
      },
      "outputs": [
        {
          "data": {
            "application/vnd.google.colaboratory.intrinsic+json": {
              "summary": "{\n  \"name\": \"df\",\n  \"rows\": 8,\n  \"fields\": [\n    {\n      \"column\": \"index\",\n      \"properties\": {\n        \"dtype\": \"number\",\n        \"std\": 9930.650518628143,\n        \"min\": 1.0,\n        \"max\": 27555.0,\n        \"num_unique_values\": 6,\n        \"samples\": [\n          27555.0,\n          13778.0,\n          20666.5\n        ],\n        \"semantic_type\": \"\",\n        \"description\": \"\"\n      }\n    },\n    {\n      \"column\": \"sale_price\",\n      \"properties\": {\n        \"dtype\": \"number\",\n        \"std\": 10004.678383064633,\n        \"min\": 2.45,\n        \"max\": 27555.0,\n        \"num_unique_values\": 8,\n        \"samples\": [\n          322.5148078388677,\n          190.0,\n          27555.0\n        ],\n        \"semantic_type\": \"\",\n        \"description\": \"\"\n      }\n    },\n    {\n      \"column\": \"market_price\",\n      \"properties\": {\n        \"dtype\": \"number\",\n        \"std\": 9987.087169346814,\n        \"min\": 3.0,\n        \"max\": 27555.0,\n        \"num_unique_values\": 8,\n        \"samples\": [\n          382.05666448920346,\n          220.0,\n          27555.0\n        ],\n        \"semantic_type\": \"\",\n        \"description\": \"\"\n      }\n    },\n    {\n      \"column\": \"rating\",\n      \"properties\": {\n        \"dtype\": \"number\",\n        \"std\": 6691.261622719596,\n        \"min\": 0.739062982864513,\n        \"max\": 18929.0,\n        \"num_unique_values\": 8,\n        \"samples\": [\n          3.943409583179249,\n          4.1,\n          18929.0\n        ],\n        \"semantic_type\": \"\",\n        \"description\": \"\"\n      }\n    }\n  ]\n}",
              "type": "dataframe"
            },
            "text/html": [
              "\n",
              "  <div id=\"df-cc898e4e-4f25-452a-9727-507c86bc1975\" class=\"colab-df-container\">\n",
              "    <div>\n",
              "<style scoped>\n",
              "    .dataframe tbody tr th:only-of-type {\n",
              "        vertical-align: middle;\n",
              "    }\n",
              "\n",
              "    .dataframe tbody tr th {\n",
              "        vertical-align: top;\n",
              "    }\n",
              "\n",
              "    .dataframe thead th {\n",
              "        text-align: right;\n",
              "    }\n",
              "</style>\n",
              "<table border=\"1\" class=\"dataframe\">\n",
              "  <thead>\n",
              "    <tr style=\"text-align: right;\">\n",
              "      <th></th>\n",
              "      <th>index</th>\n",
              "      <th>sale_price</th>\n",
              "      <th>market_price</th>\n",
              "      <th>rating</th>\n",
              "    </tr>\n",
              "  </thead>\n",
              "  <tbody>\n",
              "    <tr>\n",
              "      <th>count</th>\n",
              "      <td>27555.00000</td>\n",
              "      <td>27555.000000</td>\n",
              "      <td>27555.000000</td>\n",
              "      <td>18929.000000</td>\n",
              "    </tr>\n",
              "    <tr>\n",
              "      <th>mean</th>\n",
              "      <td>13778.00000</td>\n",
              "      <td>322.514808</td>\n",
              "      <td>382.056664</td>\n",
              "      <td>3.943410</td>\n",
              "    </tr>\n",
              "    <tr>\n",
              "      <th>std</th>\n",
              "      <td>7954.58767</td>\n",
              "      <td>486.263116</td>\n",
              "      <td>581.730717</td>\n",
              "      <td>0.739063</td>\n",
              "    </tr>\n",
              "    <tr>\n",
              "      <th>min</th>\n",
              "      <td>1.00000</td>\n",
              "      <td>2.450000</td>\n",
              "      <td>3.000000</td>\n",
              "      <td>1.000000</td>\n",
              "    </tr>\n",
              "    <tr>\n",
              "      <th>25%</th>\n",
              "      <td>6889.50000</td>\n",
              "      <td>95.000000</td>\n",
              "      <td>100.000000</td>\n",
              "      <td>3.700000</td>\n",
              "    </tr>\n",
              "    <tr>\n",
              "      <th>50%</th>\n",
              "      <td>13778.00000</td>\n",
              "      <td>190.000000</td>\n",
              "      <td>220.000000</td>\n",
              "      <td>4.100000</td>\n",
              "    </tr>\n",
              "    <tr>\n",
              "      <th>75%</th>\n",
              "      <td>20666.50000</td>\n",
              "      <td>359.000000</td>\n",
              "      <td>425.000000</td>\n",
              "      <td>4.300000</td>\n",
              "    </tr>\n",
              "    <tr>\n",
              "      <th>max</th>\n",
              "      <td>27555.00000</td>\n",
              "      <td>12500.000000</td>\n",
              "      <td>12500.000000</td>\n",
              "      <td>5.000000</td>\n",
              "    </tr>\n",
              "  </tbody>\n",
              "</table>\n",
              "</div>\n",
              "    <div class=\"colab-df-buttons\">\n",
              "\n",
              "  <div class=\"colab-df-container\">\n",
              "    <button class=\"colab-df-convert\" onclick=\"convertToInteractive('df-cc898e4e-4f25-452a-9727-507c86bc1975')\"\n",
              "            title=\"Convert this dataframe to an interactive table.\"\n",
              "            style=\"display:none;\">\n",
              "\n",
              "  <svg xmlns=\"http://www.w3.org/2000/svg\" height=\"24px\" viewBox=\"0 -960 960 960\">\n",
              "    <path d=\"M120-120v-720h720v720H120Zm60-500h600v-160H180v160Zm220 220h160v-160H400v160Zm0 220h160v-160H400v160ZM180-400h160v-160H180v160Zm440 0h160v-160H620v160ZM180-180h160v-160H180v160Zm440 0h160v-160H620v160Z\"/>\n",
              "  </svg>\n",
              "    </button>\n",
              "\n",
              "  <style>\n",
              "    .colab-df-container {\n",
              "      display:flex;\n",
              "      gap: 12px;\n",
              "    }\n",
              "\n",
              "    .colab-df-convert {\n",
              "      background-color: #E8F0FE;\n",
              "      border: none;\n",
              "      border-radius: 50%;\n",
              "      cursor: pointer;\n",
              "      display: none;\n",
              "      fill: #1967D2;\n",
              "      height: 32px;\n",
              "      padding: 0 0 0 0;\n",
              "      width: 32px;\n",
              "    }\n",
              "\n",
              "    .colab-df-convert:hover {\n",
              "      background-color: #E2EBFA;\n",
              "      box-shadow: 0px 1px 2px rgba(60, 64, 67, 0.3), 0px 1px 3px 1px rgba(60, 64, 67, 0.15);\n",
              "      fill: #174EA6;\n",
              "    }\n",
              "\n",
              "    .colab-df-buttons div {\n",
              "      margin-bottom: 4px;\n",
              "    }\n",
              "\n",
              "    [theme=dark] .colab-df-convert {\n",
              "      background-color: #3B4455;\n",
              "      fill: #D2E3FC;\n",
              "    }\n",
              "\n",
              "    [theme=dark] .colab-df-convert:hover {\n",
              "      background-color: #434B5C;\n",
              "      box-shadow: 0px 1px 3px 1px rgba(0, 0, 0, 0.15);\n",
              "      filter: drop-shadow(0px 1px 2px rgba(0, 0, 0, 0.3));\n",
              "      fill: #FFFFFF;\n",
              "    }\n",
              "  </style>\n",
              "\n",
              "    <script>\n",
              "      const buttonEl =\n",
              "        document.querySelector('#df-cc898e4e-4f25-452a-9727-507c86bc1975 button.colab-df-convert');\n",
              "      buttonEl.style.display =\n",
              "        google.colab.kernel.accessAllowed ? 'block' : 'none';\n",
              "\n",
              "      async function convertToInteractive(key) {\n",
              "        const element = document.querySelector('#df-cc898e4e-4f25-452a-9727-507c86bc1975');\n",
              "        const dataTable =\n",
              "          await google.colab.kernel.invokeFunction('convertToInteractive',\n",
              "                                                    [key], {});\n",
              "        if (!dataTable) return;\n",
              "\n",
              "        const docLinkHtml = 'Like what you see? Visit the ' +\n",
              "          '<a target=\"_blank\" href=https://colab.research.google.com/notebooks/data_table.ipynb>data table notebook</a>'\n",
              "          + ' to learn more about interactive tables.';\n",
              "        element.innerHTML = '';\n",
              "        dataTable['output_type'] = 'display_data';\n",
              "        await google.colab.output.renderOutput(dataTable, element);\n",
              "        const docLink = document.createElement('div');\n",
              "        docLink.innerHTML = docLinkHtml;\n",
              "        element.appendChild(docLink);\n",
              "      }\n",
              "    </script>\n",
              "  </div>\n",
              "\n",
              "\n",
              "    <div id=\"df-b6a98bf5-d5dd-447c-b6fa-c5ef581b800c\">\n",
              "      <button class=\"colab-df-quickchart\" onclick=\"quickchart('df-b6a98bf5-d5dd-447c-b6fa-c5ef581b800c')\"\n",
              "                title=\"Suggest charts\"\n",
              "                style=\"display:none;\">\n",
              "\n",
              "<svg xmlns=\"http://www.w3.org/2000/svg\" height=\"24px\"viewBox=\"0 0 24 24\"\n",
              "     width=\"24px\">\n",
              "    <g>\n",
              "        <path d=\"M19 3H5c-1.1 0-2 .9-2 2v14c0 1.1.9 2 2 2h14c1.1 0 2-.9 2-2V5c0-1.1-.9-2-2-2zM9 17H7v-7h2v7zm4 0h-2V7h2v10zm4 0h-2v-4h2v4z\"/>\n",
              "    </g>\n",
              "</svg>\n",
              "      </button>\n",
              "\n",
              "<style>\n",
              "  .colab-df-quickchart {\n",
              "      --bg-color: #E8F0FE;\n",
              "      --fill-color: #1967D2;\n",
              "      --hover-bg-color: #E2EBFA;\n",
              "      --hover-fill-color: #174EA6;\n",
              "      --disabled-fill-color: #AAA;\n",
              "      --disabled-bg-color: #DDD;\n",
              "  }\n",
              "\n",
              "  [theme=dark] .colab-df-quickchart {\n",
              "      --bg-color: #3B4455;\n",
              "      --fill-color: #D2E3FC;\n",
              "      --hover-bg-color: #434B5C;\n",
              "      --hover-fill-color: #FFFFFF;\n",
              "      --disabled-bg-color: #3B4455;\n",
              "      --disabled-fill-color: #666;\n",
              "  }\n",
              "\n",
              "  .colab-df-quickchart {\n",
              "    background-color: var(--bg-color);\n",
              "    border: none;\n",
              "    border-radius: 50%;\n",
              "    cursor: pointer;\n",
              "    display: none;\n",
              "    fill: var(--fill-color);\n",
              "    height: 32px;\n",
              "    padding: 0;\n",
              "    width: 32px;\n",
              "  }\n",
              "\n",
              "  .colab-df-quickchart:hover {\n",
              "    background-color: var(--hover-bg-color);\n",
              "    box-shadow: 0 1px 2px rgba(60, 64, 67, 0.3), 0 1px 3px 1px rgba(60, 64, 67, 0.15);\n",
              "    fill: var(--button-hover-fill-color);\n",
              "  }\n",
              "\n",
              "  .colab-df-quickchart-complete:disabled,\n",
              "  .colab-df-quickchart-complete:disabled:hover {\n",
              "    background-color: var(--disabled-bg-color);\n",
              "    fill: var(--disabled-fill-color);\n",
              "    box-shadow: none;\n",
              "  }\n",
              "\n",
              "  .colab-df-spinner {\n",
              "    border: 2px solid var(--fill-color);\n",
              "    border-color: transparent;\n",
              "    border-bottom-color: var(--fill-color);\n",
              "    animation:\n",
              "      spin 1s steps(1) infinite;\n",
              "  }\n",
              "\n",
              "  @keyframes spin {\n",
              "    0% {\n",
              "      border-color: transparent;\n",
              "      border-bottom-color: var(--fill-color);\n",
              "      border-left-color: var(--fill-color);\n",
              "    }\n",
              "    20% {\n",
              "      border-color: transparent;\n",
              "      border-left-color: var(--fill-color);\n",
              "      border-top-color: var(--fill-color);\n",
              "    }\n",
              "    30% {\n",
              "      border-color: transparent;\n",
              "      border-left-color: var(--fill-color);\n",
              "      border-top-color: var(--fill-color);\n",
              "      border-right-color: var(--fill-color);\n",
              "    }\n",
              "    40% {\n",
              "      border-color: transparent;\n",
              "      border-right-color: var(--fill-color);\n",
              "      border-top-color: var(--fill-color);\n",
              "    }\n",
              "    60% {\n",
              "      border-color: transparent;\n",
              "      border-right-color: var(--fill-color);\n",
              "    }\n",
              "    80% {\n",
              "      border-color: transparent;\n",
              "      border-right-color: var(--fill-color);\n",
              "      border-bottom-color: var(--fill-color);\n",
              "    }\n",
              "    90% {\n",
              "      border-color: transparent;\n",
              "      border-bottom-color: var(--fill-color);\n",
              "    }\n",
              "  }\n",
              "</style>\n",
              "\n",
              "      <script>\n",
              "        async function quickchart(key) {\n",
              "          const quickchartButtonEl =\n",
              "            document.querySelector('#' + key + ' button');\n",
              "          quickchartButtonEl.disabled = true;  // To prevent multiple clicks.\n",
              "          quickchartButtonEl.classList.add('colab-df-spinner');\n",
              "          try {\n",
              "            const charts = await google.colab.kernel.invokeFunction(\n",
              "                'suggestCharts', [key], {});\n",
              "          } catch (error) {\n",
              "            console.error('Error during call to suggestCharts:', error);\n",
              "          }\n",
              "          quickchartButtonEl.classList.remove('colab-df-spinner');\n",
              "          quickchartButtonEl.classList.add('colab-df-quickchart-complete');\n",
              "        }\n",
              "        (() => {\n",
              "          let quickchartButtonEl =\n",
              "            document.querySelector('#df-b6a98bf5-d5dd-447c-b6fa-c5ef581b800c button');\n",
              "          quickchartButtonEl.style.display =\n",
              "            google.colab.kernel.accessAllowed ? 'block' : 'none';\n",
              "        })();\n",
              "      </script>\n",
              "    </div>\n",
              "\n",
              "    </div>\n",
              "  </div>\n"
            ],
            "text/plain": [
              "             index    sale_price  market_price        rating\n",
              "count  27555.00000  27555.000000  27555.000000  18929.000000\n",
              "mean   13778.00000    322.514808    382.056664      3.943410\n",
              "std     7954.58767    486.263116    581.730717      0.739063\n",
              "min        1.00000      2.450000      3.000000      1.000000\n",
              "25%     6889.50000     95.000000    100.000000      3.700000\n",
              "50%    13778.00000    190.000000    220.000000      4.100000\n",
              "75%    20666.50000    359.000000    425.000000      4.300000\n",
              "max    27555.00000  12500.000000  12500.000000      5.000000"
            ]
          },
          "execution_count": 5,
          "metadata": {},
          "output_type": "execute_result"
        }
      ],
      "source": [
        "df.describe()"
      ]
    },
    {
      "cell_type": "markdown",
      "metadata": {
        "id": "xj8ULklnJ8oc"
      },
      "source": [
        "Menampilkan statistik deskriptif untuk kolom numerik dalam dataset.\n",
        "Beberapa insight awal:\n",
        "\n",
        "- Harga jual (sale_price) dan harga pasar (market_price) memiliki rentang yang cukup besar, menunjukkan variasi produk.\n",
        "\n",
        "- Rata-rata rating pengguna adalah sekitar 3.94 dengan nilai maksimum 5 dan minimum 1, mengindikasikan adanya distribusi opini yang cukup lebar dari pengguna."
      ]
    },
    {
      "cell_type": "code",
      "execution_count": 6,
      "metadata": {
        "colab": {
          "base_uri": "https://localhost:8080/",
          "height": 416
        },
        "id": "ye1EtY50Z3YR",
        "outputId": "46a4cbcf-70ea-4daa-fdd8-c089edc7261d"
      },
      "outputs": [
        {
          "name": "stdout",
          "output_type": "stream",
          "text": [
            "Missing values:\n"
          ]
        },
        {
          "data": {
            "text/html": [
              "<div>\n",
              "<style scoped>\n",
              "    .dataframe tbody tr th:only-of-type {\n",
              "        vertical-align: middle;\n",
              "    }\n",
              "\n",
              "    .dataframe tbody tr th {\n",
              "        vertical-align: top;\n",
              "    }\n",
              "\n",
              "    .dataframe thead th {\n",
              "        text-align: right;\n",
              "    }\n",
              "</style>\n",
              "<table border=\"1\" class=\"dataframe\">\n",
              "  <thead>\n",
              "    <tr style=\"text-align: right;\">\n",
              "      <th></th>\n",
              "      <th>0</th>\n",
              "    </tr>\n",
              "  </thead>\n",
              "  <tbody>\n",
              "    <tr>\n",
              "      <th>index</th>\n",
              "      <td>0</td>\n",
              "    </tr>\n",
              "    <tr>\n",
              "      <th>product</th>\n",
              "      <td>1</td>\n",
              "    </tr>\n",
              "    <tr>\n",
              "      <th>category</th>\n",
              "      <td>0</td>\n",
              "    </tr>\n",
              "    <tr>\n",
              "      <th>sub_category</th>\n",
              "      <td>0</td>\n",
              "    </tr>\n",
              "    <tr>\n",
              "      <th>brand</th>\n",
              "      <td>1</td>\n",
              "    </tr>\n",
              "    <tr>\n",
              "      <th>sale_price</th>\n",
              "      <td>0</td>\n",
              "    </tr>\n",
              "    <tr>\n",
              "      <th>market_price</th>\n",
              "      <td>0</td>\n",
              "    </tr>\n",
              "    <tr>\n",
              "      <th>type</th>\n",
              "      <td>0</td>\n",
              "    </tr>\n",
              "    <tr>\n",
              "      <th>rating</th>\n",
              "      <td>8626</td>\n",
              "    </tr>\n",
              "    <tr>\n",
              "      <th>description</th>\n",
              "      <td>115</td>\n",
              "    </tr>\n",
              "  </tbody>\n",
              "</table>\n",
              "</div><br><label><b>dtype:</b> int64</label>"
            ],
            "text/plain": [
              "index              0\n",
              "product            1\n",
              "category           0\n",
              "sub_category       0\n",
              "brand              1\n",
              "sale_price         0\n",
              "market_price       0\n",
              "type               0\n",
              "rating          8626\n",
              "description      115\n",
              "dtype: int64"
            ]
          },
          "execution_count": 6,
          "metadata": {},
          "output_type": "execute_result"
        }
      ],
      "source": [
        "print(\"Missing values:\")\n",
        "df.isnull().sum()"
      ]
    },
    {
      "cell_type": "markdown",
      "metadata": {
        "id": "BArB3LrvKH3w"
      },
      "source": [
        "Melakukan pengecekan nilai kosong (missing values) pada setiap kolom.\n",
        "Hasilnya menunjukkan bahwa:\n",
        "\n",
        "- Kolom rating memiliki jumlah nilai kosong paling banyak (8.626 baris), yang perlu ditangani karena digunakan untuk sistem rekomendasi.\n",
        "\n",
        "- Kolom description juga memiliki missing values (115 baris), namun kemungkinan tidak krusial untuk model ini.\n",
        "\n",
        "- Kolom product dan brand masing-masing hanya memiliki 1 nilai kosong.\n",
        "\n"
      ]
    },
    {
      "cell_type": "code",
      "execution_count": 7,
      "metadata": {
        "colab": {
          "base_uri": "https://localhost:8080/"
        },
        "id": "OX27CWacZ7hZ",
        "outputId": "16c34931-a3f8-47c6-a487-43e54045ae10"
      },
      "outputs": [
        {
          "name": "stdout",
          "output_type": "stream",
          "text": [
            "Duplicates:\n"
          ]
        },
        {
          "data": {
            "text/plain": [
              "0"
            ]
          },
          "execution_count": 7,
          "metadata": {},
          "output_type": "execute_result"
        }
      ],
      "source": [
        "print(\"Duplicates:\")\n",
        "df.duplicated().sum()"
      ]
    },
    {
      "cell_type": "markdown",
      "metadata": {
        "id": "9kLi9aWjKSIp"
      },
      "source": [
        "Memeriksa apakah terdapat baris data yang duplikat dalam dataset.\n",
        "Hasil menunjukkan bahwa tidak ada data duplikat, sehingga tidak diperlukan tindakan pembersihan untuk kasus ini."
      ]
    },
    {
      "cell_type": "code",
      "execution_count": 8,
      "metadata": {
        "colab": {
          "base_uri": "https://localhost:8080/"
        },
        "id": "1TGF0aU8SxaP",
        "outputId": "e008105f-e770-4302-b250-7057697512a2"
      },
      "outputs": [
        {
          "name": "stdout",
          "output_type": "stream",
          "text": [
            "Jumlah nilai unik tiap kolom:\n",
            "- product: 23540\n",
            "- category: 11\n",
            "- sub_category: 90\n",
            "- brand: 2313\n",
            "- rating: 40\n"
          ]
        }
      ],
      "source": [
        "#  Jumlah Nilai Unik per Kolom\n",
        "print(\"Jumlah nilai unik tiap kolom:\")\n",
        "for col in ['product', 'category', 'sub_category', 'brand', 'rating']:\n",
        "    print(f\"- {col}: {df[col].nunique()}\")"
      ]
    },
    {
      "cell_type": "markdown",
      "metadata": {
        "id": "knd19VcScXmy"
      },
      "source": [
        "Kode ini digunakan untuk menghitung jumlah nilai unik (distinct values) dari setiap kolom yang relevan dalam dataset, yaitu: product, category, sub_category, brand, dan rating.\n",
        "\n",
        "Hasil yang diperoleh:\n",
        "- product: 23.540 produk unik tercatat di dataset.\n",
        "- category: 11 kategori utama.\n",
        "- sub_category: 90 sub-kategori produk yang lebih spesifik.\n",
        "- brand: 2.313 merek produk yang berbeda.\n",
        "- rating: 40 nilai rating unik yang digunakan (kemungkinan dalam bentuk skala desimal atau integer bervariasi).\n",
        "\n",
        "> Banyaknya produk dan brand menunjukkan keragaman konten produk yang sangat tinggi, cocok untuk digunakan dalam sistem rekomendasi berbasis konten (CBF).\n",
        "\n",
        "> Rating yang beragam memberi potensi untuk analisis kualitas dan preferensi produk.\n",
        "\n",
        "> Distribusi kategori dan sub-kategori dapat digunakan untuk mengelompokkan produk yang serupa."
      ]
    },
    {
      "cell_type": "code",
      "execution_count": 9,
      "metadata": {
        "colab": {
          "base_uri": "https://localhost:8080/",
          "height": 693
        },
        "id": "mrvIN_2-S9cN",
        "outputId": "5cb91ead-6cdc-489d-ebf7-6eeb7bd927f5"
      },
      "outputs": [
        {
          "name": "stderr",
          "output_type": "stream",
          "text": [
            "<ipython-input-9-1706537353>:3: FutureWarning: \n",
            "\n",
            "Passing `palette` without assigning `hue` is deprecated and will be removed in v0.14.0. Assign the `y` variable to `hue` and set `legend=False` for the same effect.\n",
            "\n",
            "  sns.countplot(y='category', data=df, order=df['category'].value_counts().index, palette='coolwarm')\n"
          ]
        },
        {
          "data": {
            "image/png": "[encoded data removed]",
            "text/plain": [
              "<Figure size 1000x600 with 1 Axes>"
            ]
          },
          "metadata": {},
          "output_type": "display_data"
        }
      ],
      "source": [
        "# Jumlah Item per Kategori\n",
        "plt.figure(figsize=(10, 6))\n",
        "sns.countplot(y='category', data=df, order=df['category'].value_counts().index, palette='coolwarm')\n",
        "plt.title('Jumlah Produk per Kategori')\n",
        "plt.xlabel('Jumlah Produk')\n",
        "plt.ylabel('Kategori')\n",
        "plt.tight_layout()\n",
        "plt.show()"
      ]
    },
    {
      "cell_type": "markdown",
      "metadata": {
        "id": "hnj9tN_4dczB"
      },
      "source": [
        "Visualisasi ini menunjukkan jumlah produk di setiap kategori utama dalam dataset BigBasket. Kategori **Beauty & Hygiene** memiliki jumlah produk terbanyak (7.867), diikuti oleh **Gourmet & World Food** (4.690) dan **Kitchen, Garden & Pets** (3.580). Sementara itu, kategori seperti **Eggs, Meat & Fish** memiliki jumlah produk paling sedikit (350). Informasi ini membantu memahami distribusi produk dan fokus utama platform, serta mengidentifikasi kategori potensial untuk rekomendasi atau pengembangan lebih lanjut.\n"
      ]
    },
    {
      "cell_type": "code",
      "execution_count": 10,
      "metadata": {
        "colab": {
          "base_uri": "https://localhost:8080/",
          "height": 693
        },
        "id": "iIayOTbjTC8K",
        "outputId": "052ba303-9ac6-4789-9318-e8202bf72ec9"
      },
      "outputs": [
        {
          "name": "stderr",
          "output_type": "stream",
          "text": [
            "<ipython-input-10-752835828>:4: FutureWarning: \n",
            "\n",
            "Passing `palette` without assigning `hue` is deprecated and will be removed in v0.14.0. Assign the `y` variable to `hue` and set `legend=False` for the same effect.\n",
            "\n",
            "  sns.barplot(x=top_products.values, y=top_products.index, palette='viridis')\n"
          ]
        },
        {
          "data": {
            "image/png": "[encoded data removed]",
            "text/plain": [
              "<Figure size 1200x600 with 1 Axes>"
            ]
          },
          "metadata": {},
          "output_type": "display_data"
        }
      ],
      "source": [
        "# 10 Produk Terlaris (Paling Banyak Muncul)\n",
        "top_products = df['product'].value_counts().head(10)\n",
        "plt.figure(figsize=(12, 6))\n",
        "sns.barplot(x=top_products.values, y=top_products.index, palette='viridis')\n",
        "plt.title('10 Produk Terlaris')\n",
        "plt.xlabel('Jumlah Kemunculan')\n",
        "plt.ylabel('Nama Produk')\n",
        "plt.tight_layout()\n",
        "plt.show()"
      ]
    },
    {
      "cell_type": "markdown",
      "metadata": {
        "id": "uHmQgrFVd83s"
      },
      "source": [
        "Kode ini menghitung frekuensi kemunculan setiap produk menggunakan `value_counts()` dan mengambil 10 teratas sebagai produk terlaris. Grafik batang horizontal dibuat menggunakan `sns.barplot()` untuk memvisualisasikan jumlah kemunculan masing-masing produk. Pengaturan seperti judul, label sumbu, dan tata letak ditambahkan agar grafik informatif dan rapi. Hasilnya menunjukkan 10 produk paling populer dalam dataset, yang dapat dijadikan dasar untuk rekomendasi berbasis popularitas. Hasilnya menunjukkan bahwa produk seperti Turmeric Powder, Extra Virgin Olive Oil, dan Cow Ghee adalah yang paling sering muncul, sehingga bisa dianggap sebagai produk terlaris. Analisis ini membantu memahami tren popularitas dan bisa digunakan sebagai dasar rekomendasi populer."
      ]
    },
    {
      "cell_type": "code",
      "execution_count": 11,
      "metadata": {
        "colab": {
          "base_uri": "https://localhost:8080/",
          "height": 693
        },
        "id": "_8_G6IxHTH8p",
        "outputId": "4441c478-eabf-45d7-f288-59018370fdb9"
      },
      "outputs": [
        {
          "name": "stderr",
          "output_type": "stream",
          "text": [
            "<ipython-input-11-2796047314>:4: FutureWarning: \n",
            "\n",
            "Passing `palette` without assigning `hue` is deprecated and will be removed in v0.14.0. Assign the `y` variable to `hue` and set `legend=False` for the same effect.\n",
            "\n",
            "  sns.barplot(x=least_products.values, y=least_products.index, palette='Reds')\n"
          ]
        },
        {
          "data": {
            "image/png": "[encoded data removed]",
            "text/plain": [
              "<Figure size 1200x600 with 1 Axes>"
            ]
          },
          "metadata": {},
          "output_type": "display_data"
        }
      ],
      "source": [
        "# 10 Produk Paling Jarang Muncul\n",
        "least_products = df['product'].value_counts().tail(10)\n",
        "plt.figure(figsize=(12, 6))\n",
        "sns.barplot(x=least_products.values, y=least_products.index, palette='Reds')\n",
        "plt.title('10 Produk Paling Jarang Muncul')\n",
        "plt.xlabel('Jumlah Kemunculan')\n",
        "plt.ylabel('Nama Produk')\n",
        "plt.tight_layout()\n",
        "plt.show()"
      ]
    },
    {
      "cell_type": "markdown",
      "metadata": {
        "id": "ouuxcdELetUT"
      },
      "source": [
        "Kode ini menampilkan 10 produk dengan kemunculan paling sedikit dalam dataset. Produk-produk ini dianggap kurang populer atau jarang dibeli, sehingga informasi ini dapat membantu mengidentifikasi produk niche atau yang memerlukan strategi pemasaran khusus. Visualisasi menggunakan grafik batang memperlihatkan perbandingan jumlah kemunculan tiap produk secara jelas."
      ]
    },
    {
      "cell_type": "code",
      "execution_count": 12,
      "metadata": {
        "colab": {
          "base_uri": "https://localhost:8080/",
          "height": 493
        },
        "id": "ozPIj_p_TMFH",
        "outputId": "03b8a9c9-b0d2-42ae-c2c1-3c90a4cb6e12"
      },
      "outputs": [
        {
          "name": "stderr",
          "output_type": "stream",
          "text": [
            "<ipython-input-12-454686087>:3: FutureWarning: \n",
            "\n",
            "Passing `palette` without assigning `hue` is deprecated and will be removed in v0.14.0. Assign the `x` variable to `hue` and set `legend=False` for the same effect.\n",
            "\n",
            "  sns.countplot(x='rating', data=df, palette='Set2')\n"
          ]
        },
        {
          "data": {
            "image/png": "[encoded data removed]",
            "text/plain": [
              "<Figure size 1500x400 with 1 Axes>"
            ]
          },
          "metadata": {},
          "output_type": "display_data"
        }
      ],
      "source": [
        "# Distribusi Rating\n",
        "plt.figure(figsize=(15, 4))\n",
        "sns.countplot(x='rating', data=df, palette='Set2')\n",
        "plt.title('Distribusi Rating Produk')\n",
        "plt.xlabel('Rating')\n",
        "plt.ylabel('Jumlah Produk')\n",
        "plt.tight_layout()\n",
        "plt.show()"
      ]
    },
    {
      "cell_type": "markdown",
      "metadata": {
        "id": "aC91svBEe4lh"
      },
      "source": [
        "Kode ini menampilkan distribusi jumlah produk berdasarkan nilai rating yang diberikan. Dengan menggunakan `countplot`, kita bisa melihat seberapa banyak produk yang mendapatkan masing-masing nilai rating. Visualisasi ini membantu memahami persebaran kualitas produk menurut penilaian pengguna secara keseluruhan. Distribusi rating produk menunjukkan bahwa sebagian besar produk mendapat nilai rating di kisaran 3.0 hingga 4.5, dengan puncak tertinggi pada rating 4.2 (2.251 produk) dan 4.3 (2.140 produk). Rating sangat rendah (di bawah 2.0) dan sangat tinggi (5.0) relatif lebih sedikit, menandakan mayoritas produk mendapatkan penilaian yang cukup baik dan tersebar merata di rentang menengah hingga tinggi."
      ]
    },
    {
      "cell_type": "code",
      "execution_count": 13,
      "metadata": {
        "colab": {
          "base_uri": "https://localhost:8080/",
          "height": 693
        },
        "id": "3tdX8toFTUDo",
        "outputId": "911d8e57-d3ab-4ea0-c78d-134c2145ee42"
      },
      "outputs": [
        {
          "name": "stderr",
          "output_type": "stream",
          "text": [
            "<ipython-input-13-898739223>:6: FutureWarning: \n",
            "\n",
            "Passing `palette` without assigning `hue` is deprecated and will be removed in v0.14.0. Assign the `y` variable to `hue` and set `legend=False` for the same effect.\n",
            "\n",
            "  sns.barplot(x=top_rated_per_cat.values, y=top_rated_per_cat.index, palette='Greens')\n"
          ]
        },
        {
          "data": {
            "image/png": "[encoded data removed]",
            "text/plain": [
              "<Figure size 1000x600 with 1 Axes>"
            ]
          },
          "metadata": {},
          "output_type": "display_data"
        }
      ],
      "source": [
        "# Produk dengan Rating Tertinggi (5) Berdasarkan Kategori\n",
        "high_rating_df = df[df['rating'] == 5]\n",
        "top_rated_per_cat = high_rating_df['category'].value_counts().head(10)\n",
        "\n",
        "plt.figure(figsize=(10, 6))\n",
        "sns.barplot(x=top_rated_per_cat.values, y=top_rated_per_cat.index, palette='Greens')\n",
        "plt.title('Jumlah Produk dengan Rating 5 per Kategori (Top 10)')\n",
        "plt.xlabel('Jumlah Produk Rating 5')\n",
        "plt.ylabel('Kategori')\n",
        "plt.tight_layout()\n",
        "plt.show()"
      ]
    },
    {
      "cell_type": "markdown",
      "metadata": {
        "id": "QzK3wRodfpIY"
      },
      "source": [
        "Kode ini menampilkan 10 kategori dengan jumlah produk yang mendapatkan rating tertinggi (nilai 5) terbanyak. Kategori *Beauty & Hygiene* mendominasi dengan 562 produk, diikuti oleh *Gourmet & World Food* dan *Kitchen, Garden & Pets*. Informasi ini membantu mengidentifikasi kategori dengan produk berkualitas unggulan berdasarkan penilaian pengguna."
      ]
    },
    {
      "cell_type": "markdown",
      "metadata": {
        "id": "1pjsok5i_upk"
      },
      "source": [
        "## Data Preparation"
      ]
    },
    {
      "cell_type": "code",
      "execution_count": 14,
      "metadata": {
        "id": "Vc-0ms4loBxU"
      },
      "outputs": [],
      "source": [
        "data_clean = df.copy()"
      ]
    },
    {
      "cell_type": "markdown",
      "metadata": {
        "id": "ZYEXBnpiMGPI"
      },
      "source": [
        "Salinan data asli dibuat untuk proses pembersihan dan transformasi tanpa mengubah data mentah.\n",
        "Langkah ini menjaga data asli tetap utuh agar dapat dibandingkan atau digunakan ulang jika diperlukan."
      ]
    },
    {
      "cell_type": "code",
      "execution_count": 15,
      "metadata": {
        "id": "KCiAr6SVoBzt"
      },
      "outputs": [],
      "source": [
        "if 'index' in data_clean.columns:\n",
        "    data_clean.drop(columns='index', inplace=True)"
      ]
    },
    {
      "cell_type": "markdown",
      "metadata": {
        "id": "DUXaxwVvMSjj"
      },
      "source": [
        "Kolom index yang tidak relevan dengan analisis dihapus untuk menyederhanakan dataset dan menghindari gangguan saat pemrosesan data selanjutnya."
      ]
    },
    {
      "cell_type": "code",
      "execution_count": 16,
      "metadata": {
        "colab": {
          "base_uri": "https://localhost:8080/"
        },
        "id": "gm60bbzeoB3M",
        "outputId": "49d6261e-5d3e-4628-addb-860365c237b4"
      },
      "outputs": [
        {
          "name": "stdout",
          "output_type": "stream",
          "text": [
            "354 duplikat dihapus.\n"
          ]
        }
      ],
      "source": [
        "initial_rows = data_clean.shape[0]\n",
        "data_clean.drop_duplicates(inplace=True)\n",
        "final_rows = data_clean.shape[0]\n",
        "print(f\"{initial_rows - final_rows} duplikat dihapus.\")"
      ]
    },
    {
      "cell_type": "markdown",
      "metadata": {
        "id": "HAgxs7BTMbnl"
      },
      "source": [
        "Data diperiksa dan baris duplikat dihapus untuk memastikan setiap produk hanya muncul sekali.\n",
        "Hal ini penting agar model tidak bias akibat data yang berulang.\n",
        "Sebanyak 354 baris duplikat berhasil dihapus dari dataset, memastikan data yang digunakan unik dan berkualitas untuk analisis lebih lanjut."
      ]
    },
    {
      "cell_type": "code",
      "execution_count": 17,
      "metadata": {
        "colab": {
          "base_uri": "https://localhost:8080/",
          "height": 206
        },
        "id": "BQ76aSvwpGqk",
        "outputId": "8b2bb028-5821-4d47-bd78-af9dd787d1ef"
      },
      "outputs": [
        {
          "data": {
            "application/vnd.google.colaboratory.intrinsic+json": {
              "summary": "{\n  \"name\": \"data_clean\",\n  \"rows\": 27201,\n  \"fields\": [\n    {\n      \"column\": \"product\",\n      \"properties\": {\n        \"dtype\": \"string\",\n        \"num_unique_values\": 23540,\n        \"samples\": [\n          \"Pure Impact Body Wash With Purifying Micro Particles - Shower Gel For Body, Face & Hair\",\n          \"Premium Care XXL - 30 Diaper Pants\",\n          \"Tomato - Green\"\n        ],\n        \"semantic_type\": \"\",\n        \"description\": \"\"\n      }\n    },\n    {\n      \"column\": \"category\",\n      \"properties\": {\n        \"dtype\": \"category\",\n        \"num_unique_values\": 11,\n        \"samples\": [\n          \"Snacks & Branded Foods\",\n          \"Beauty & Hygiene\",\n          \"Fruits & Vegetables\"\n        ],\n        \"semantic_type\": \"\",\n        \"description\": \"\"\n      }\n    },\n    {\n      \"column\": \"sub_category\",\n      \"properties\": {\n        \"dtype\": \"category\",\n        \"num_unique_values\": 90,\n        \"samples\": [\n          \"Crockery & Cutlery\",\n          \"Fragrances & Deos\",\n          \"Energy & Soft Drinks\"\n        ],\n        \"semantic_type\": \"\",\n        \"description\": \"\"\n      }\n    },\n    {\n      \"column\": \"brand\",\n      \"properties\": {\n        \"dtype\": \"category\",\n        \"num_unique_values\": 2313,\n        \"samples\": [\n          \"Red Label\",\n          \"Lomani\",\n          \"Happily Unmarried\"\n        ],\n        \"semantic_type\": \"\",\n        \"description\": \"\"\n      }\n    },\n    {\n      \"column\": \"sale_price\",\n      \"properties\": {\n        \"dtype\": \"number\",\n        \"std\": 486.8895615767932,\n        \"min\": 2.45,\n        \"max\": 12500.0,\n        \"num_unique_values\": 3256,\n        \"samples\": [\n          2880.0,\n          40.0,\n          293.02\n        ],\n        \"semantic_type\": \"\",\n        \"description\": \"\"\n      }\n    },\n    {\n      \"column\": \"market_price\",\n      \"properties\": {\n        \"dtype\": \"number\",\n        \"std\": 582.3637540126359,\n        \"min\": 3.0,\n        \"max\": 12500.0,\n        \"num_unique_values\": 1348,\n        \"samples\": [\n          192.0,\n          1164.0,\n          74.38\n        ],\n        \"semantic_type\": \"\",\n        \"description\": \"\"\n      }\n    },\n    {\n      \"column\": \"type\",\n      \"properties\": {\n        \"dtype\": \"category\",\n        \"num_unique_values\": 426,\n        \"samples\": [\n          \"Nappies & Rash Cream\",\n          \"Hair Removal\",\n          \"Crackers & Digestive\"\n        ],\n        \"semantic_type\": \"\",\n        \"description\": \"\"\n      }\n    },\n    {\n      \"column\": \"rating\",\n      \"properties\": {\n        \"dtype\": \"number\",\n        \"std\": 0.73545182500153,\n        \"min\": 1.0,\n        \"max\": 5.0,\n        \"num_unique_values\": 40,\n        \"samples\": [\n          3.0,\n          1.5,\n          3.9\n        ],\n        \"semantic_type\": \"\",\n        \"description\": \"\"\n      }\n    },\n    {\n      \"column\": \"description\",\n      \"properties\": {\n        \"dtype\": \"string\",\n        \"num_unique_values\": 21944,\n        \"samples\": [\n          \"Premium Day Face Cream:Lightweight formula that will give your skin a daily boost of radiance and hydration. Packed with the goodness of skin brightening, Vitamin C Why Is It Special?- It contains the Most Stable & Effective form of Vitamin C, 3-O Ethyl Ascorbic Acid. It is the next generation Vitamin C that really works in improving skin health.- Vitamin C is a proven skin-brightening agent known for its antioxidant properties for decades. It boosts collagen formation and effectively targets visible signs of ageing, giving skin the much-needed glow. - The presence of Vitamin E, Pro-Vitamin B5 & Vitamin B3 helps awaken and clarify your complexion, revealing a natural healthy-looking glow. - SPF 30 & PA+++ provide the highest level of protection against UVA & UVB rays of the sun. The mineral-based sun protection agents shield the skin against the harsh solar radiation, minimizing skin dryness and dullness. - Multiple natural oils are combined for intense hydration and nourishment. Antioxidant-rich botanical extracts are added to keep skin moisturized, smooth & soft. - St.Botanica is a PETA-certified cruelty-free brand. The product does not contain any harmful chemicals & is free from parabens, silicones or mineral oils.\",\n          \"Kari Kari Japanese premium snacks are the exciting irresistible new taste of crunch. Lite and crispy, the savoury rice crackers are mixed with peanuts to make hearty, wholesome snack with delicious, bold and zesty taste with every bite.\",\n          \"Safely store your food in this pink lunch box. The lunch box is made plastic which gives the container durability and sturdiness. The rectangular containers come with an airtight lid to keep food fresh for long. The wide mouth opening of the lunch makes it easy to fill food and easy to clean. The set makes a great gift option for special days.\"\n        ],\n        \"semantic_type\": \"\",\n        \"description\": \"\"\n      }\n    }\n  ]\n}",
              "type": "dataframe",
              "variable_name": "data_clean"
            },
            "text/html": [
              "\n",
              "  <div id=\"df-b2e035ad-fe84-4414-95a5-3c9987bfb956\" class=\"colab-df-container\">\n",
              "    <div>\n",
              "<style scoped>\n",
              "    .dataframe tbody tr th:only-of-type {\n",
              "        vertical-align: middle;\n",
              "    }\n",
              "\n",
              "    .dataframe tbody tr th {\n",
              "        vertical-align: top;\n",
              "    }\n",
              "\n",
              "    .dataframe thead th {\n",
              "        text-align: right;\n",
              "    }\n",
              "</style>\n",
              "<table border=\"1\" class=\"dataframe\">\n",
              "  <thead>\n",
              "    <tr style=\"text-align: right;\">\n",
              "      <th></th>\n",
              "      <th>product</th>\n",
              "      <th>category</th>\n",
              "      <th>sub_category</th>\n",
              "      <th>brand</th>\n",
              "      <th>sale_price</th>\n",
              "      <th>market_price</th>\n",
              "      <th>type</th>\n",
              "      <th>rating</th>\n",
              "      <th>description</th>\n",
              "    </tr>\n",
              "  </thead>\n",
              "  <tbody>\n",
              "    <tr>\n",
              "      <th>0</th>\n",
              "      <td>Garlic Oil - Vegetarian Capsule 500 mg</td>\n",
              "      <td>Beauty &amp; Hygiene</td>\n",
              "      <td>Hair Care</td>\n",
              "      <td>Sri Sri Ayurveda</td>\n",
              "      <td>220.0</td>\n",
              "      <td>220.0</td>\n",
              "      <td>Hair Oil &amp; Serum</td>\n",
              "      <td>4.1</td>\n",
              "      <td>This Product contains Garlic Oil that is known...</td>\n",
              "    </tr>\n",
              "    <tr>\n",
              "      <th>1</th>\n",
              "      <td>Water Bottle - Orange</td>\n",
              "      <td>Kitchen, Garden &amp; Pets</td>\n",
              "      <td>Storage &amp; Accessories</td>\n",
              "      <td>Mastercook</td>\n",
              "      <td>180.0</td>\n",
              "      <td>180.0</td>\n",
              "      <td>Water &amp; Fridge Bottles</td>\n",
              "      <td>2.3</td>\n",
              "      <td>Each product is microwave safe (without lid), ...</td>\n",
              "    </tr>\n",
              "    <tr>\n",
              "      <th>2</th>\n",
              "      <td>Brass Angle Deep - Plain, No.2</td>\n",
              "      <td>Cleaning &amp; Household</td>\n",
              "      <td>Pooja Needs</td>\n",
              "      <td>Trm</td>\n",
              "      <td>119.0</td>\n",
              "      <td>250.0</td>\n",
              "      <td>Lamp &amp; Lamp Oil</td>\n",
              "      <td>3.4</td>\n",
              "      <td>A perfect gift for all occasions, be it your m...</td>\n",
              "    </tr>\n",
              "    <tr>\n",
              "      <th>3</th>\n",
              "      <td>Cereal Flip Lid Container/Storage Jar - Assort...</td>\n",
              "      <td>Cleaning &amp; Household</td>\n",
              "      <td>Bins &amp; Bathroom Ware</td>\n",
              "      <td>Nakoda</td>\n",
              "      <td>149.0</td>\n",
              "      <td>176.0</td>\n",
              "      <td>Laundry, Storage Baskets</td>\n",
              "      <td>3.7</td>\n",
              "      <td>Multipurpose container with an attractive desi...</td>\n",
              "    </tr>\n",
              "    <tr>\n",
              "      <th>4</th>\n",
              "      <td>Creme Soft Soap - For Hands &amp; Body</td>\n",
              "      <td>Beauty &amp; Hygiene</td>\n",
              "      <td>Bath &amp; Hand Wash</td>\n",
              "      <td>Nivea</td>\n",
              "      <td>162.0</td>\n",
              "      <td>162.0</td>\n",
              "      <td>Bathing Bars &amp; Soaps</td>\n",
              "      <td>4.4</td>\n",
              "      <td>Nivea Creme Soft Soap gives your skin the best...</td>\n",
              "    </tr>\n",
              "  </tbody>\n",
              "</table>\n",
              "</div>\n",
              "    <div class=\"colab-df-buttons\">\n",
              "\n",
              "  <div class=\"colab-df-container\">\n",
              "    <button class=\"colab-df-convert\" onclick=\"convertToInteractive('df-b2e035ad-fe84-4414-95a5-3c9987bfb956')\"\n",
              "            title=\"Convert this dataframe to an interactive table.\"\n",
              "            style=\"display:none;\">\n",
              "\n",
              "  <svg xmlns=\"http://www.w3.org/2000/svg\" height=\"24px\" viewBox=\"0 -960 960 960\">\n",
              "    <path d=\"M120-120v-720h720v720H120Zm60-500h600v-160H180v160Zm220 220h160v-160H400v160Zm0 220h160v-160H400v160ZM180-400h160v-160H180v160Zm440 0h160v-160H620v160ZM180-180h160v-160H180v160Zm440 0h160v-160H620v160Z\"/>\n",
              "  </svg>\n",
              "    </button>\n",
              "\n",
              "  <style>\n",
              "    .colab-df-container {\n",
              "      display:flex;\n",
              "      gap: 12px;\n",
              "    }\n",
              "\n",
              "    .colab-df-convert {\n",
              "      background-color: #E8F0FE;\n",
              "      border: none;\n",
              "      border-radius: 50%;\n",
              "      cursor: pointer;\n",
              "      display: none;\n",
              "      fill: #1967D2;\n",
              "      height: 32px;\n",
              "      padding: 0 0 0 0;\n",
              "      width: 32px;\n",
              "    }\n",
              "\n",
              "    .colab-df-convert:hover {\n",
              "      background-color: #E2EBFA;\n",
              "      box-shadow: 0px 1px 2px rgba(60, 64, 67, 0.3), 0px 1px 3px 1px rgba(60, 64, 67, 0.15);\n",
              "      fill: #174EA6;\n",
              "    }\n",
              "\n",
              "    .colab-df-buttons div {\n",
              "      margin-bottom: 4px;\n",
              "    }\n",
              "\n",
              "    [theme=dark] .colab-df-convert {\n",
              "      background-color: #3B4455;\n",
              "      fill: #D2E3FC;\n",
              "    }\n",
              "\n",
              "    [theme=dark] .colab-df-convert:hover {\n",
              "      background-color: #434B5C;\n",
              "      box-shadow: 0px 1px 3px 1px rgba(0, 0, 0, 0.15);\n",
              "      filter: drop-shadow(0px 1px 2px rgba(0, 0, 0, 0.3));\n",
              "      fill: #FFFFFF;\n",
              "    }\n",
              "  </style>\n",
              "\n",
              "    <script>\n",
              "      const buttonEl =\n",
              "        document.querySelector('#df-b2e035ad-fe84-4414-95a5-3c9987bfb956 button.colab-df-convert');\n",
              "      buttonEl.style.display =\n",
              "        google.colab.kernel.accessAllowed ? 'block' : 'none';\n",
              "\n",
              "      async function convertToInteractive(key) {\n",
              "        const element = document.querySelector('#df-b2e035ad-fe84-4414-95a5-3c9987bfb956');\n",
              "        const dataTable =\n",
              "          await google.colab.kernel.invokeFunction('convertToInteractive',\n",
              "                                                    [key], {});\n",
              "        if (!dataTable) return;\n",
              "\n",
              "        const docLinkHtml = 'Like what you see? Visit the ' +\n",
              "          '<a target=\"_blank\" href=https://colab.research.google.com/notebooks/data_table.ipynb>data table notebook</a>'\n",
              "          + ' to learn more about interactive tables.';\n",
              "        element.innerHTML = '';\n",
              "        dataTable['output_type'] = 'display_data';\n",
              "        await google.colab.output.renderOutput(dataTable, element);\n",
              "        const docLink = document.createElement('div');\n",
              "        docLink.innerHTML = docLinkHtml;\n",
              "        element.appendChild(docLink);\n",
              "      }\n",
              "    </script>\n",
              "  </div>\n",
              "\n",
              "\n",
              "    <div id=\"df-4ee72e0d-ebfa-4c57-be5b-738dacedb82a\">\n",
              "      <button class=\"colab-df-quickchart\" onclick=\"quickchart('df-4ee72e0d-ebfa-4c57-be5b-738dacedb82a')\"\n",
              "                title=\"Suggest charts\"\n",
              "                style=\"display:none;\">\n",
              "\n",
              "<svg xmlns=\"http://www.w3.org/2000/svg\" height=\"24px\"viewBox=\"0 0 24 24\"\n",
              "     width=\"24px\">\n",
              "    <g>\n",
              "        <path d=\"M19 3H5c-1.1 0-2 .9-2 2v14c0 1.1.9 2 2 2h14c1.1 0 2-.9 2-2V5c0-1.1-.9-2-2-2zM9 17H7v-7h2v7zm4 0h-2V7h2v10zm4 0h-2v-4h2v4z\"/>\n",
              "    </g>\n",
              "</svg>\n",
              "      </button>\n",
              "\n",
              "<style>\n",
              "  .colab-df-quickchart {\n",
              "      --bg-color: #E8F0FE;\n",
              "      --fill-color: #1967D2;\n",
              "      --hover-bg-color: #E2EBFA;\n",
              "      --hover-fill-color: #174EA6;\n",
              "      --disabled-fill-color: #AAA;\n",
              "      --disabled-bg-color: #DDD;\n",
              "  }\n",
              "\n",
              "  [theme=dark] .colab-df-quickchart {\n",
              "      --bg-color: #3B4455;\n",
              "      --fill-color: #D2E3FC;\n",
              "      --hover-bg-color: #434B5C;\n",
              "      --hover-fill-color: #FFFFFF;\n",
              "      --disabled-bg-color: #3B4455;\n",
              "      --disabled-fill-color: #666;\n",
              "  }\n",
              "\n",
              "  .colab-df-quickchart {\n",
              "    background-color: var(--bg-color);\n",
              "    border: none;\n",
              "    border-radius: 50%;\n",
              "    cursor: pointer;\n",
              "    display: none;\n",
              "    fill: var(--fill-color);\n",
              "    height: 32px;\n",
              "    padding: 0;\n",
              "    width: 32px;\n",
              "  }\n",
              "\n",
              "  .colab-df-quickchart:hover {\n",
              "    background-color: var(--hover-bg-color);\n",
              "    box-shadow: 0 1px 2px rgba(60, 64, 67, 0.3), 0 1px 3px 1px rgba(60, 64, 67, 0.15);\n",
              "    fill: var(--button-hover-fill-color);\n",
              "  }\n",
              "\n",
              "  .colab-df-quickchart-complete:disabled,\n",
              "  .colab-df-quickchart-complete:disabled:hover {\n",
              "    background-color: var(--disabled-bg-color);\n",
              "    fill: var(--disabled-fill-color);\n",
              "    box-shadow: none;\n",
              "  }\n",
              "\n",
              "  .colab-df-spinner {\n",
              "    border: 2px solid var(--fill-color);\n",
              "    border-color: transparent;\n",
              "    border-bottom-color: var(--fill-color);\n",
              "    animation:\n",
              "      spin 1s steps(1) infinite;\n",
              "  }\n",
              "\n",
              "  @keyframes spin {\n",
              "    0% {\n",
              "      border-color: transparent;\n",
              "      border-bottom-color: var(--fill-color);\n",
              "      border-left-color: var(--fill-color);\n",
              "    }\n",
              "    20% {\n",
              "      border-color: transparent;\n",
              "      border-left-color: var(--fill-color);\n",
              "      border-top-color: var(--fill-color);\n",
              "    }\n",
              "    30% {\n",
              "      border-color: transparent;\n",
              "      border-left-color: var(--fill-color);\n",
              "      border-top-color: var(--fill-color);\n",
              "      border-right-color: var(--fill-color);\n",
              "    }\n",
              "    40% {\n",
              "      border-color: transparent;\n",
              "      border-right-color: var(--fill-color);\n",
              "      border-top-color: var(--fill-color);\n",
              "    }\n",
              "    60% {\n",
              "      border-color: transparent;\n",
              "      border-right-color: var(--fill-color);\n",
              "    }\n",
              "    80% {\n",
              "      border-color: transparent;\n",
              "      border-right-color: var(--fill-color);\n",
              "      border-bottom-color: var(--fill-color);\n",
              "    }\n",
              "    90% {\n",
              "      border-color: transparent;\n",
              "      border-bottom-color: var(--fill-color);\n",
              "    }\n",
              "  }\n",
              "</style>\n",
              "\n",
              "      <script>\n",
              "        async function quickchart(key) {\n",
              "          const quickchartButtonEl =\n",
              "            document.querySelector('#' + key + ' button');\n",
              "          quickchartButtonEl.disabled = true;  // To prevent multiple clicks.\n",
              "          quickchartButtonEl.classList.add('colab-df-spinner');\n",
              "          try {\n",
              "            const charts = await google.colab.kernel.invokeFunction(\n",
              "                'suggestCharts', [key], {});\n",
              "          } catch (error) {\n",
              "            console.error('Error during call to suggestCharts:', error);\n",
              "          }\n",
              "          quickchartButtonEl.classList.remove('colab-df-spinner');\n",
              "          quickchartButtonEl.classList.add('colab-df-quickchart-complete');\n",
              "        }\n",
              "        (() => {\n",
              "          let quickchartButtonEl =\n",
              "            document.querySelector('#df-4ee72e0d-ebfa-4c57-be5b-738dacedb82a button');\n",
              "          quickchartButtonEl.style.display =\n",
              "            google.colab.kernel.accessAllowed ? 'block' : 'none';\n",
              "        })();\n",
              "      </script>\n",
              "    </div>\n",
              "\n",
              "    </div>\n",
              "  </div>\n"
            ],
            "text/plain": [
              "                                             product                category  \\\n",
              "0             Garlic Oil - Vegetarian Capsule 500 mg        Beauty & Hygiene   \n",
              "1                              Water Bottle - Orange  Kitchen, Garden & Pets   \n",
              "2                     Brass Angle Deep - Plain, No.2    Cleaning & Household   \n",
              "3  Cereal Flip Lid Container/Storage Jar - Assort...    Cleaning & Household   \n",
              "4                 Creme Soft Soap - For Hands & Body        Beauty & Hygiene   \n",
              "\n",
              "            sub_category              brand  sale_price  market_price  \\\n",
              "0              Hair Care  Sri Sri Ayurveda        220.0         220.0   \n",
              "1  Storage & Accessories         Mastercook       180.0         180.0   \n",
              "2            Pooja Needs                Trm       119.0         250.0   \n",
              "3   Bins & Bathroom Ware             Nakoda       149.0         176.0   \n",
              "4       Bath & Hand Wash              Nivea       162.0         162.0   \n",
              "\n",
              "                       type  rating  \\\n",
              "0          Hair Oil & Serum     4.1   \n",
              "1    Water & Fridge Bottles     2.3   \n",
              "2           Lamp & Lamp Oil     3.4   \n",
              "3  Laundry, Storage Baskets     3.7   \n",
              "4      Bathing Bars & Soaps     4.4   \n",
              "\n",
              "                                         description  \n",
              "0  This Product contains Garlic Oil that is known...  \n",
              "1  Each product is microwave safe (without lid), ...  \n",
              "2  A perfect gift for all occasions, be it your m...  \n",
              "3  Multipurpose container with an attractive desi...  \n",
              "4  Nivea Creme Soft Soap gives your skin the best...  "
            ]
          },
          "execution_count": 17,
          "metadata": {},
          "output_type": "execute_result"
        }
      ],
      "source": [
        "data_clean.head()"
      ]
    },
    {
      "cell_type": "markdown",
      "metadata": {
        "id": "DltlLerMNYLd"
      },
      "source": [
        "Menampilkan 5 baris pertama dataset setelah pembersihan data, menghapus duplikat dan menangani nilai kosong.\n",
        "Dataset kini siap untuk tahap pemrosesan lebih lanjut dengan fitur lengkap dan format yang bersih."
      ]
    },
    {
      "cell_type": "code",
      "execution_count": 18,
      "metadata": {
        "id": "0I9MTZ4XoWAA"
      },
      "outputs": [],
      "source": [
        "def bersihkan_text(teks):\n",
        "    if isinstance(teks, list):\n",
        "        return [t.strip().lower().replace(\" \", \"\") for t in teks]\n",
        "    elif isinstance(teks, str):\n",
        "        return teks.strip().lower().replace(\" \", \"\")\n",
        "    else:\n",
        "        return ''\n",
        "\n",
        "def split_multivalue(teks):\n",
        "    if isinstance(teks, str):\n",
        "        return re.split(r\"&|,|\\*|\\n\", teks)\n",
        "    return []\n",
        "\n",
        "\n",
        "for kolom in ['category', 'sub_category', 'type']:\n",
        "    data_clean[kolom] = data_clean[kolom].apply(split_multivalue).apply(bersihkan_text)\n",
        "\n",
        "data_clean['brand'] = data_clean['brand'].apply(bersihkan_text)"
      ]
    },
    {
      "cell_type": "markdown",
      "metadata": {
        "id": "Mg9r9e9JNe2a"
      },
      "source": [
        "Dua fungsi dibuat untuk membersihkan dan menyiapkan data kategorikal:\n",
        "\n",
        "- split_multivalue(teks):\n",
        "Memisahkan string kategori yang mengandung beberapa nilai (dipisahkan dengan &, ,, *, atau newline) menjadi list. Contoh: \"Fruits & Vegetables\" → [\"Fruits\", \"Vegetables\"].\n",
        "\n",
        "- bersihkan_text(teks):\n",
        "Membersihkan teks dari spasi dan mengubahnya menjadi huruf kecil. Jika input berupa list, fungsi ini akan membersihkan setiap elemen dalam list tersebut. Contoh: \" Hair Care \" → \"haircare\".\n",
        "\n",
        "Fungsi-fungsi ini diterapkan pada kolom category, sub_category, dan type agar konsisten dalam format list bersih.\n",
        "Kolom brand juga dibersihkan untuk menyamakan format meskipun hanya berisi satu nilai.\n",
        "\n",
        "Langkah ini penting untuk mempersiapkan data sebelum diubah menjadi fitur teks dalam sistem rekomendasi berbasis konten (CBF)."
      ]
    },
    {
      "cell_type": "code",
      "execution_count": 19,
      "metadata": {
        "id": "1Gid609VJqmF"
      },
      "outputs": [],
      "source": [
        "cbf_data = data_clean.copy()"
      ]
    },
    {
      "cell_type": "markdown",
      "metadata": {
        "id": "z3r6mLiCOMIN"
      },
      "source": [
        "Salinan data bersih dibuat ke dalam variabel cbf_data khusus untuk proses Content-Based Filtering.\n",
        "Hal ini menjaga data utama tetap utuh saat fitur khusus CBF ditambahkan atau dimodifikasi."
      ]
    },
    {
      "cell_type": "code",
      "execution_count": 20,
      "metadata": {
        "colab": {
          "base_uri": "https://localhost:8080/",
          "height": 243
        },
        "id": "zhNRjhr2ozMD",
        "outputId": "468af8c0-f640-4d25-eba6-fc7373b874a8"
      },
      "outputs": [
        {
          "name": "stdout",
          "output_type": "stream",
          "text": [
            "\n",
            "hasil penggabungan fitur CBF:\n"
          ]
        },
        {
          "data": {
            "application/vnd.google.colaboratory.intrinsic+json": {
              "summary": "{\n  \"name\": \"cbf_data[['product', 'fitur_gabungan']]\",\n  \"rows\": 5,\n  \"fields\": [\n    {\n      \"column\": \"product\",\n      \"properties\": {\n        \"dtype\": \"string\",\n        \"num_unique_values\": 5,\n        \"samples\": [\n          \"Water Bottle - Orange\",\n          \"Creme Soft Soap - For Hands & Body\",\n          \"Brass Angle Deep - Plain, No.2\"\n        ],\n        \"semantic_type\": \"\",\n        \"description\": \"\"\n      }\n    },\n    {\n      \"column\": \"fitur_gabungan\",\n      \"properties\": {\n        \"dtype\": \"string\",\n        \"num_unique_values\": 5,\n        \"samples\": [\n          \"kitchen garden pets storage accessories water fridgebottles mastercook\",\n          \"beauty hygiene bath handwash bathingbars soaps nivea\",\n          \"cleaning household poojaneeds lamp lampoil trm\"\n        ],\n        \"semantic_type\": \"\",\n        \"description\": \"\"\n      }\n    }\n  ]\n}",
              "type": "dataframe"
            },
            "text/html": [
              "\n",
              "  <div id=\"df-694c74e8-0f7b-4bc1-9be5-85a60141e2e0\" class=\"colab-df-container\">\n",
              "    <div>\n",
              "<style scoped>\n",
              "    .dataframe tbody tr th:only-of-type {\n",
              "        vertical-align: middle;\n",
              "    }\n",
              "\n",
              "    .dataframe tbody tr th {\n",
              "        vertical-align: top;\n",
              "    }\n",
              "\n",
              "    .dataframe thead th {\n",
              "        text-align: right;\n",
              "    }\n",
              "</style>\n",
              "<table border=\"1\" class=\"dataframe\">\n",
              "  <thead>\n",
              "    <tr style=\"text-align: right;\">\n",
              "      <th></th>\n",
              "      <th>product</th>\n",
              "      <th>fitur_gabungan</th>\n",
              "    </tr>\n",
              "  </thead>\n",
              "  <tbody>\n",
              "    <tr>\n",
              "      <th>0</th>\n",
              "      <td>Garlic Oil - Vegetarian Capsule 500 mg</td>\n",
              "      <td>beauty hygiene haircare hairoil serum srisriay...</td>\n",
              "    </tr>\n",
              "    <tr>\n",
              "      <th>1</th>\n",
              "      <td>Water Bottle - Orange</td>\n",
              "      <td>kitchen garden pets storage accessories water ...</td>\n",
              "    </tr>\n",
              "    <tr>\n",
              "      <th>2</th>\n",
              "      <td>Brass Angle Deep - Plain, No.2</td>\n",
              "      <td>cleaning household poojaneeds lamp lampoil trm</td>\n",
              "    </tr>\n",
              "    <tr>\n",
              "      <th>3</th>\n",
              "      <td>Cereal Flip Lid Container/Storage Jar - Assort...</td>\n",
              "      <td>cleaning household bins bathroomware laundry s...</td>\n",
              "    </tr>\n",
              "    <tr>\n",
              "      <th>4</th>\n",
              "      <td>Creme Soft Soap - For Hands &amp; Body</td>\n",
              "      <td>beauty hygiene bath handwash bathingbars soaps...</td>\n",
              "    </tr>\n",
              "  </tbody>\n",
              "</table>\n",
              "</div>\n",
              "    <div class=\"colab-df-buttons\">\n",
              "\n",
              "  <div class=\"colab-df-container\">\n",
              "    <button class=\"colab-df-convert\" onclick=\"convertToInteractive('df-694c74e8-0f7b-4bc1-9be5-85a60141e2e0')\"\n",
              "            title=\"Convert this dataframe to an interactive table.\"\n",
              "            style=\"display:none;\">\n",
              "\n",
              "  <svg xmlns=\"http://www.w3.org/2000/svg\" height=\"24px\" viewBox=\"0 -960 960 960\">\n",
              "    <path d=\"M120-120v-720h720v720H120Zm60-500h600v-160H180v160Zm220 220h160v-160H400v160Zm0 220h160v-160H400v160ZM180-400h160v-160H180v160Zm440 0h160v-160H620v160ZM180-180h160v-160H180v160Zm440 0h160v-160H620v160Z\"/>\n",
              "  </svg>\n",
              "    </button>\n",
              "\n",
              "  <style>\n",
              "    .colab-df-container {\n",
              "      display:flex;\n",
              "      gap: 12px;\n",
              "    }\n",
              "\n",
              "    .colab-df-convert {\n",
              "      background-color: #E8F0FE;\n",
              "      border: none;\n",
              "      border-radius: 50%;\n",
              "      cursor: pointer;\n",
              "      display: none;\n",
              "      fill: #1967D2;\n",
              "      height: 32px;\n",
              "      padding: 0 0 0 0;\n",
              "      width: 32px;\n",
              "    }\n",
              "\n",
              "    .colab-df-convert:hover {\n",
              "      background-color: #E2EBFA;\n",
              "      box-shadow: 0px 1px 2px rgba(60, 64, 67, 0.3), 0px 1px 3px 1px rgba(60, 64, 67, 0.15);\n",
              "      fill: #174EA6;\n",
              "    }\n",
              "\n",
              "    .colab-df-buttons div {\n",
              "      margin-bottom: 4px;\n",
              "    }\n",
              "\n",
              "    [theme=dark] .colab-df-convert {\n",
              "      background-color: #3B4455;\n",
              "      fill: #D2E3FC;\n",
              "    }\n",
              "\n",
              "    [theme=dark] .colab-df-convert:hover {\n",
              "      background-color: #434B5C;\n",
              "      box-shadow: 0px 1px 3px 1px rgba(0, 0, 0, 0.15);\n",
              "      filter: drop-shadow(0px 1px 2px rgba(0, 0, 0, 0.3));\n",
              "      fill: #FFFFFF;\n",
              "    }\n",
              "  </style>\n",
              "\n",
              "    <script>\n",
              "      const buttonEl =\n",
              "        document.querySelector('#df-694c74e8-0f7b-4bc1-9be5-85a60141e2e0 button.colab-df-convert');\n",
              "      buttonEl.style.display =\n",
              "        google.colab.kernel.accessAllowed ? 'block' : 'none';\n",
              "\n",
              "      async function convertToInteractive(key) {\n",
              "        const element = document.querySelector('#df-694c74e8-0f7b-4bc1-9be5-85a60141e2e0');\n",
              "        const dataTable =\n",
              "          await google.colab.kernel.invokeFunction('convertToInteractive',\n",
              "                                                    [key], {});\n",
              "        if (!dataTable) return;\n",
              "\n",
              "        const docLinkHtml = 'Like what you see? Visit the ' +\n",
              "          '<a target=\"_blank\" href=https://colab.research.google.com/notebooks/data_table.ipynb>data table notebook</a>'\n",
              "          + ' to learn more about interactive tables.';\n",
              "        element.innerHTML = '';\n",
              "        dataTable['output_type'] = 'display_data';\n",
              "        await google.colab.output.renderOutput(dataTable, element);\n",
              "        const docLink = document.createElement('div');\n",
              "        docLink.innerHTML = docLinkHtml;\n",
              "        element.appendChild(docLink);\n",
              "      }\n",
              "    </script>\n",
              "  </div>\n",
              "\n",
              "\n",
              "    <div id=\"df-7eca66bf-f142-4396-8564-45fc460f1ea9\">\n",
              "      <button class=\"colab-df-quickchart\" onclick=\"quickchart('df-7eca66bf-f142-4396-8564-45fc460f1ea9')\"\n",
              "                title=\"Suggest charts\"\n",
              "                style=\"display:none;\">\n",
              "\n",
              "<svg xmlns=\"http://www.w3.org/2000/svg\" height=\"24px\"viewBox=\"0 0 24 24\"\n",
              "     width=\"24px\">\n",
              "    <g>\n",
              "        <path d=\"M19 3H5c-1.1 0-2 .9-2 2v14c0 1.1.9 2 2 2h14c1.1 0 2-.9 2-2V5c0-1.1-.9-2-2-2zM9 17H7v-7h2v7zm4 0h-2V7h2v10zm4 0h-2v-4h2v4z\"/>\n",
              "    </g>\n",
              "</svg>\n",
              "      </button>\n",
              "\n",
              "<style>\n",
              "  .colab-df-quickchart {\n",
              "      --bg-color: #E8F0FE;\n",
              "      --fill-color: #1967D2;\n",
              "      --hover-bg-color: #E2EBFA;\n",
              "      --hover-fill-color: #174EA6;\n",
              "      --disabled-fill-color: #AAA;\n",
              "      --disabled-bg-color: #DDD;\n",
              "  }\n",
              "\n",
              "  [theme=dark] .colab-df-quickchart {\n",
              "      --bg-color: #3B4455;\n",
              "      --fill-color: #D2E3FC;\n",
              "      --hover-bg-color: #434B5C;\n",
              "      --hover-fill-color: #FFFFFF;\n",
              "      --disabled-bg-color: #3B4455;\n",
              "      --disabled-fill-color: #666;\n",
              "  }\n",
              "\n",
              "  .colab-df-quickchart {\n",
              "    background-color: var(--bg-color);\n",
              "    border: none;\n",
              "    border-radius: 50%;\n",
              "    cursor: pointer;\n",
              "    display: none;\n",
              "    fill: var(--fill-color);\n",
              "    height: 32px;\n",
              "    padding: 0;\n",
              "    width: 32px;\n",
              "  }\n",
              "\n",
              "  .colab-df-quickchart:hover {\n",
              "    background-color: var(--hover-bg-color);\n",
              "    box-shadow: 0 1px 2px rgba(60, 64, 67, 0.3), 0 1px 3px 1px rgba(60, 64, 67, 0.15);\n",
              "    fill: var(--button-hover-fill-color);\n",
              "  }\n",
              "\n",
              "  .colab-df-quickchart-complete:disabled,\n",
              "  .colab-df-quickchart-complete:disabled:hover {\n",
              "    background-color: var(--disabled-bg-color);\n",
              "    fill: var(--disabled-fill-color);\n",
              "    box-shadow: none;\n",
              "  }\n",
              "\n",
              "  .colab-df-spinner {\n",
              "    border: 2px solid var(--fill-color);\n",
              "    border-color: transparent;\n",
              "    border-bottom-color: var(--fill-color);\n",
              "    animation:\n",
              "      spin 1s steps(1) infinite;\n",
              "  }\n",
              "\n",
              "  @keyframes spin {\n",
              "    0% {\n",
              "      border-color: transparent;\n",
              "      border-bottom-color: var(--fill-color);\n",
              "      border-left-color: var(--fill-color);\n",
              "    }\n",
              "    20% {\n",
              "      border-color: transparent;\n",
              "      border-left-color: var(--fill-color);\n",
              "      border-top-color: var(--fill-color);\n",
              "    }\n",
              "    30% {\n",
              "      border-color: transparent;\n",
              "      border-left-color: var(--fill-color);\n",
              "      border-top-color: var(--fill-color);\n",
              "      border-right-color: var(--fill-color);\n",
              "    }\n",
              "    40% {\n",
              "      border-color: transparent;\n",
              "      border-right-color: var(--fill-color);\n",
              "      border-top-color: var(--fill-color);\n",
              "    }\n",
              "    60% {\n",
              "      border-color: transparent;\n",
              "      border-right-color: var(--fill-color);\n",
              "    }\n",
              "    80% {\n",
              "      border-color: transparent;\n",
              "      border-right-color: var(--fill-color);\n",
              "      border-bottom-color: var(--fill-color);\n",
              "    }\n",
              "    90% {\n",
              "      border-color: transparent;\n",
              "      border-bottom-color: var(--fill-color);\n",
              "    }\n",
              "  }\n",
              "</style>\n",
              "\n",
              "      <script>\n",
              "        async function quickchart(key) {\n",
              "          const quickchartButtonEl =\n",
              "            document.querySelector('#' + key + ' button');\n",
              "          quickchartButtonEl.disabled = true;  // To prevent multiple clicks.\n",
              "          quickchartButtonEl.classList.add('colab-df-spinner');\n",
              "          try {\n",
              "            const charts = await google.colab.kernel.invokeFunction(\n",
              "                'suggestCharts', [key], {});\n",
              "          } catch (error) {\n",
              "            console.error('Error during call to suggestCharts:', error);\n",
              "          }\n",
              "          quickchartButtonEl.classList.remove('colab-df-spinner');\n",
              "          quickchartButtonEl.classList.add('colab-df-quickchart-complete');\n",
              "        }\n",
              "        (() => {\n",
              "          let quickchartButtonEl =\n",
              "            document.querySelector('#df-7eca66bf-f142-4396-8564-45fc460f1ea9 button');\n",
              "          quickchartButtonEl.style.display =\n",
              "            google.colab.kernel.accessAllowed ? 'block' : 'none';\n",
              "        })();\n",
              "      </script>\n",
              "    </div>\n",
              "\n",
              "    </div>\n",
              "  </div>\n"
            ],
            "text/plain": [
              "                                             product  \\\n",
              "0             Garlic Oil - Vegetarian Capsule 500 mg   \n",
              "1                              Water Bottle - Orange   \n",
              "2                     Brass Angle Deep - Plain, No.2   \n",
              "3  Cereal Flip Lid Container/Storage Jar - Assort...   \n",
              "4                 Creme Soft Soap - For Hands & Body   \n",
              "\n",
              "                                      fitur_gabungan  \n",
              "0  beauty hygiene haircare hairoil serum srisriay...  \n",
              "1  kitchen garden pets storage accessories water ...  \n",
              "2     cleaning household poojaneeds lamp lampoil trm  \n",
              "3  cleaning household bins bathroomware laundry s...  \n",
              "4  beauty hygiene bath handwash bathingbars soaps...  "
            ]
          },
          "execution_count": 20,
          "metadata": {},
          "output_type": "execute_result"
        }
      ],
      "source": [
        "def gabungkan_fitur(row):\n",
        "    kategori = \" \".join(row['category']) if isinstance(row['category'], list) else ''\n",
        "    sub_kategori = \" \".join(row['sub_category']) if isinstance(row['sub_category'], list) else ''\n",
        "    tipe = \" \".join(row['type']) if isinstance(row['type'], list) else ''\n",
        "    merek = row['brand'] if isinstance(row['brand'], str) else ''\n",
        "\n",
        "    gabungan = f\"{kategori} {sub_kategori} {tipe} {merek}\"\n",
        "    return gabungan.strip()\n",
        "\n",
        "\n",
        "cbf_data['fitur_gabungan'] = cbf_data.apply(gabungkan_fitur, axis=1)\n",
        "\n",
        "print(\"\\nhasil penggabungan fitur CBF:\")\n",
        "cbf_data[['product', 'fitur_gabungan']].head()\n"
      ]
    },
    {
      "cell_type": "markdown",
      "metadata": {
        "id": "F_3Yq2H7OgRF"
      },
      "source": [
        "Fungsi gabungkan_fitur() dibuat untuk menggabungkan beberapa atribut penting dari produk, yaitu:\n",
        "\n",
        "- category, sub_category, dan type (dijadikan satu string jika berupa list),\n",
        "\n",
        "- serta brand.\n",
        "\n",
        "Gabungan ini disimpan dalam kolom baru fitur_gabungan, yang menjadi representasi teks setiap produk untuk proses Content-Based Filtering.\n",
        "Contoh hasilnya mencakup kata-kata seperti:\n",
        "\"beauty hygiene haircare hairoil serum srisriayurveda\"\n",
        "\n",
        "Langkah ini penting sebagai input ke TF-IDF Vectorizer dalam tahap selanjutnya."
      ]
    },
    {
      "cell_type": "code",
      "execution_count": 21,
      "metadata": {
        "colab": {
          "base_uri": "https://localhost:8080/"
        },
        "id": "Sp91oXqMozOd",
        "outputId": "a2b414d9-6561-4461-bc67-bb506e601c93"
      },
      "outputs": [
        {
          "name": "stdout",
          "output_type": "stream",
          "text": [
            "Ukuran TF-IDF matrix: (23541, 3039)\n"
          ]
        }
      ],
      "source": [
        "cbf_unique = cbf_data.drop_duplicates(subset='product', keep='first').reset_index(drop=True)\n",
        "\n",
        "tfidf = TfidfVectorizer(stop_words='english')\n",
        "tfidf_matrix = tfidf.fit_transform(cbf_unique['fitur_gabungan'])\n",
        "\n",
        "print(f\"Ukuran TF-IDF matrix: {tfidf_matrix.shape}\")"
      ]
    },
    {
      "cell_type": "markdown",
      "metadata": {
        "id": "db4L0KGNOxQJ"
      },
      "source": [
        "Untuk membangun model CBF, data duplikat berdasarkan nama produk dihapus agar setiap produk hanya muncul sekali (cbf_unique).\n",
        "Kolom fitur_gabungan kemudian diproses menggunakan TF-IDF Vectorizer untuk mengubah teks menjadi representasi numerik.\n",
        "\n",
        "TF-IDF digunakan untuk menangkap pentingnya kata dalam konteks setiap produk, sambil mengabaikan kata-kata umum (stop words).\n",
        "\n",
        "Output:\n",
        "Ukuran matriks TF-IDF adalah (23541, 3039), artinya ada 23.541 produk dan 3.039 fitur unik yang terdeteksi dari teks."
      ]
    },
    {
      "cell_type": "markdown",
      "metadata": {
        "id": "Ene7ZdLlH__2"
      },
      "source": [
        "## Modeling & Result"
      ]
    },
    {
      "cell_type": "code",
      "execution_count": 22,
      "metadata": {
        "colab": {
          "base_uri": "https://localhost:8080/"
        },
        "id": "H1fMAd2mozR3",
        "outputId": "c6a3106f-3e75-4d4b-978d-c316567848d7"
      },
      "outputs": [
        {
          "name": "stdout",
          "output_type": "stream",
          "text": [
            "Ukuran cosine similarity matrix: (23541, 23541)\n"
          ]
        }
      ],
      "source": [
        "cosine_sim_matrix = cosine_similarity(tfidf_matrix, tfidf_matrix)\n",
        "\n",
        "print(f\"Ukuran cosine similarity matrix: {cosine_sim_matrix.shape}\")"
      ]
    },
    {
      "cell_type": "markdown",
      "metadata": {
        "id": "qUvGWZFWO6l_"
      },
      "source": [
        "Menggunakan cosine similarity, sistem menghitung tingkat kemiripan antar produk berdasarkan representasi TF-IDF-nya.\n",
        "Setiap produk dibandingkan dengan seluruh produk lainnya untuk menemukan seberapa mirip mereka berdasarkan deskripsi fiturnya.\n",
        "\n",
        "Output:\n",
        "Matriks hasil berukuran (23541, 23541), artinya setiap produk memiliki skor kemiripan terhadap 23541 produk lainnya.\n",
        "\n",
        "Matriks ini akan digunakan untuk menghasilkan rekomendasi produk yang mirip secara konten."
      ]
    },
    {
      "cell_type": "code",
      "execution_count": 26,
      "metadata": {
        "colab": {
          "base_uri": "https://localhost:8080/",
          "height": 381
        },
        "id": "SFFzO1KYrrSn",
        "outputId": "4301ba5b-0905-48ce-e5fb-7c97f59295ef"
      },
      "outputs": [
        {
          "name": "stdout",
          "output_type": "stream",
          "text": [
            "Rekomendasi produk mirip dengan: Aloe Vera Bathing Soap - With Vitamin E For Soft, Glowing Skin, Refreshing Fragrance, Combo Pack\n"
          ]
        },
        {
          "data": {
            "application/vnd.google.colaboratory.intrinsic+json": {
              "summary": "{\n  \"name\": \"rekomendasi_produk(produk_acak)\",\n  \"rows\": 10,\n  \"fields\": [\n    {\n      \"column\": \"product\",\n      \"properties\": {\n        \"dtype\": \"string\",\n        \"num_unique_values\": 10,\n        \"samples\": [\n          \"Jasmine Butter Soap\",\n          \"Body Wash - Lavender & Almond Oil, Nourishing & Moisturising Shower Cr\\u00e8me\",\n          \"Body Wash - Mint & Cucumber, Shower Creme\"\n        ],\n        \"semantic_type\": \"\",\n        \"description\": \"\"\n      }\n    },\n    {\n      \"column\": \"brand\",\n      \"properties\": {\n        \"dtype\": \"category\",\n        \"num_unique_values\": 2,\n        \"samples\": [\n          \"inatur\",\n          \"vivel\"\n        ],\n        \"semantic_type\": \"\",\n        \"description\": \"\"\n      }\n    }\n  ]\n}",
              "type": "dataframe"
            },
            "text/html": [
              "\n",
              "  <div id=\"df-7ca21262-e999-4fd1-9269-f91a92593a1f\" class=\"colab-df-container\">\n",
              "    <div>\n",
              "<style scoped>\n",
              "    .dataframe tbody tr th:only-of-type {\n",
              "        vertical-align: middle;\n",
              "    }\n",
              "\n",
              "    .dataframe tbody tr th {\n",
              "        vertical-align: top;\n",
              "    }\n",
              "\n",
              "    .dataframe thead th {\n",
              "        text-align: right;\n",
              "    }\n",
              "</style>\n",
              "<table border=\"1\" class=\"dataframe\">\n",
              "  <thead>\n",
              "    <tr style=\"text-align: right;\">\n",
              "      <th></th>\n",
              "      <th>product</th>\n",
              "      <th>brand</th>\n",
              "    </tr>\n",
              "  </thead>\n",
              "  <tbody>\n",
              "    <tr>\n",
              "      <th>21340</th>\n",
              "      <td>Aloe Vera Bathing Soap - With Vitamin E For So...</td>\n",
              "      <td>vivel</td>\n",
              "    </tr>\n",
              "    <tr>\n",
              "      <th>3678</th>\n",
              "      <td>Body Wash - Lavender &amp; Almond Oil, Nourishing ...</td>\n",
              "      <td>vivel</td>\n",
              "    </tr>\n",
              "    <tr>\n",
              "      <th>4271</th>\n",
              "      <td>Body Wash - Lavender &amp; Almond Oil, Shower Creme</td>\n",
              "      <td>vivel</td>\n",
              "    </tr>\n",
              "    <tr>\n",
              "      <th>6604</th>\n",
              "      <td>Body Wash - Mint &amp; Cucumber</td>\n",
              "      <td>vivel</td>\n",
              "    </tr>\n",
              "    <tr>\n",
              "      <th>10598</th>\n",
              "      <td>Body Wash - Lavender &amp; Almond Oil, Nourishing ...</td>\n",
              "      <td>vivel</td>\n",
              "    </tr>\n",
              "    <tr>\n",
              "      <th>18007</th>\n",
              "      <td>Body Wash - Mint &amp; Cucumber, Shower Creme</td>\n",
              "      <td>vivel</td>\n",
              "    </tr>\n",
              "    <tr>\n",
              "      <th>5858</th>\n",
              "      <td>Neem &amp; Lemon Bathing Soap</td>\n",
              "      <td>inatur</td>\n",
              "    </tr>\n",
              "    <tr>\n",
              "      <th>7813</th>\n",
              "      <td>Rose &amp; Geranium Sugar Soap</td>\n",
              "      <td>inatur</td>\n",
              "    </tr>\n",
              "    <tr>\n",
              "      <th>11592</th>\n",
              "      <td>Jasmine Butter Soap</td>\n",
              "      <td>inatur</td>\n",
              "    </tr>\n",
              "    <tr>\n",
              "      <th>17494</th>\n",
              "      <td>Sandal &amp; Vanilla Soap</td>\n",
              "      <td>inatur</td>\n",
              "    </tr>\n",
              "  </tbody>\n",
              "</table>\n",
              "</div>\n",
              "    <div class=\"colab-df-buttons\">\n",
              "\n",
              "  <div class=\"colab-df-container\">\n",
              "    <button class=\"colab-df-convert\" onclick=\"convertToInteractive('df-7ca21262-e999-4fd1-9269-f91a92593a1f')\"\n",
              "            title=\"Convert this dataframe to an interactive table.\"\n",
              "            style=\"display:none;\">\n",
              "\n",
              "  <svg xmlns=\"http://www.w3.org/2000/svg\" height=\"24px\" viewBox=\"0 -960 960 960\">\n",
              "    <path d=\"M120-120v-720h720v720H120Zm60-500h600v-160H180v160Zm220 220h160v-160H400v160Zm0 220h160v-160H400v160ZM180-400h160v-160H180v160Zm440 0h160v-160H620v160ZM180-180h160v-160H180v160Zm440 0h160v-160H620v160Z\"/>\n",
              "  </svg>\n",
              "    </button>\n",
              "\n",
              "  <style>\n",
              "    .colab-df-container {\n",
              "      display:flex;\n",
              "      gap: 12px;\n",
              "    }\n",
              "\n",
              "    .colab-df-convert {\n",
              "      background-color: #E8F0FE;\n",
              "      border: none;\n",
              "      border-radius: 50%;\n",
              "      cursor: pointer;\n",
              "      display: none;\n",
              "      fill: #1967D2;\n",
              "      height: 32px;\n",
              "      padding: 0 0 0 0;\n",
              "      width: 32px;\n",
              "    }\n",
              "\n",
              "    .colab-df-convert:hover {\n",
              "      background-color: #E2EBFA;\n",
              "      box-shadow: 0px 1px 2px rgba(60, 64, 67, 0.3), 0px 1px 3px 1px rgba(60, 64, 67, 0.15);\n",
              "      fill: #174EA6;\n",
              "    }\n",
              "\n",
              "    .colab-df-buttons div {\n",
              "      margin-bottom: 4px;\n",
              "    }\n",
              "\n",
              "    [theme=dark] .colab-df-convert {\n",
              "      background-color: #3B4455;\n",
              "      fill: #D2E3FC;\n",
              "    }\n",
              "\n",
              "    [theme=dark] .colab-df-convert:hover {\n",
              "      background-color: #434B5C;\n",
              "      box-shadow: 0px 1px 3px 1px rgba(0, 0, 0, 0.15);\n",
              "      filter: drop-shadow(0px 1px 2px rgba(0, 0, 0, 0.3));\n",
              "      fill: #FFFFFF;\n",
              "    }\n",
              "  </style>\n",
              "\n",
              "    <script>\n",
              "      const buttonEl =\n",
              "        document.querySelector('#df-7ca21262-e999-4fd1-9269-f91a92593a1f button.colab-df-convert');\n",
              "      buttonEl.style.display =\n",
              "        google.colab.kernel.accessAllowed ? 'block' : 'none';\n",
              "\n",
              "      async function convertToInteractive(key) {\n",
              "        const element = document.querySelector('#df-7ca21262-e999-4fd1-9269-f91a92593a1f');\n",
              "        const dataTable =\n",
              "          await google.colab.kernel.invokeFunction('convertToInteractive',\n",
              "                                                    [key], {});\n",
              "        if (!dataTable) return;\n",
              "\n",
              "        const docLinkHtml = 'Like what you see? Visit the ' +\n",
              "          '<a target=\"_blank\" href=https://colab.research.google.com/notebooks/data_table.ipynb>data table notebook</a>'\n",
              "          + ' to learn more about interactive tables.';\n",
              "        element.innerHTML = '';\n",
              "        dataTable['output_type'] = 'display_data';\n",
              "        await google.colab.output.renderOutput(dataTable, element);\n",
              "        const docLink = document.createElement('div');\n",
              "        docLink.innerHTML = docLinkHtml;\n",
              "        element.appendChild(docLink);\n",
              "      }\n",
              "    </script>\n",
              "  </div>\n",
              "\n",
              "\n",
              "    <div id=\"df-1d6525b7-7054-4361-975e-260f450b9506\">\n",
              "      <button class=\"colab-df-quickchart\" onclick=\"quickchart('df-1d6525b7-7054-4361-975e-260f450b9506')\"\n",
              "                title=\"Suggest charts\"\n",
              "                style=\"display:none;\">\n",
              "\n",
              "<svg xmlns=\"http://www.w3.org/2000/svg\" height=\"24px\"viewBox=\"0 0 24 24\"\n",
              "     width=\"24px\">\n",
              "    <g>\n",
              "        <path d=\"M19 3H5c-1.1 0-2 .9-2 2v14c0 1.1.9 2 2 2h14c1.1 0 2-.9 2-2V5c0-1.1-.9-2-2-2zM9 17H7v-7h2v7zm4 0h-2V7h2v10zm4 0h-2v-4h2v4z\"/>\n",
              "    </g>\n",
              "</svg>\n",
              "      </button>\n",
              "\n",
              "<style>\n",
              "  .colab-df-quickchart {\n",
              "      --bg-color: #E8F0FE;\n",
              "      --fill-color: #1967D2;\n",
              "      --hover-bg-color: #E2EBFA;\n",
              "      --hover-fill-color: #174EA6;\n",
              "      --disabled-fill-color: #AAA;\n",
              "      --disabled-bg-color: #DDD;\n",
              "  }\n",
              "\n",
              "  [theme=dark] .colab-df-quickchart {\n",
              "      --bg-color: #3B4455;\n",
              "      --fill-color: #D2E3FC;\n",
              "      --hover-bg-color: #434B5C;\n",
              "      --hover-fill-color: #FFFFFF;\n",
              "      --disabled-bg-color: #3B4455;\n",
              "      --disabled-fill-color: #666;\n",
              "  }\n",
              "\n",
              "  .colab-df-quickchart {\n",
              "    background-color: var(--bg-color);\n",
              "    border: none;\n",
              "    border-radius: 50%;\n",
              "    cursor: pointer;\n",
              "    display: none;\n",
              "    fill: var(--fill-color);\n",
              "    height: 32px;\n",
              "    padding: 0;\n",
              "    width: 32px;\n",
              "  }\n",
              "\n",
              "  .colab-df-quickchart:hover {\n",
              "    background-color: var(--hover-bg-color);\n",
              "    box-shadow: 0 1px 2px rgba(60, 64, 67, 0.3), 0 1px 3px 1px rgba(60, 64, 67, 0.15);\n",
              "    fill: var(--button-hover-fill-color);\n",
              "  }\n",
              "\n",
              "  .colab-df-quickchart-complete:disabled,\n",
              "  .colab-df-quickchart-complete:disabled:hover {\n",
              "    background-color: var(--disabled-bg-color);\n",
              "    fill: var(--disabled-fill-color);\n",
              "    box-shadow: none;\n",
              "  }\n",
              "\n",
              "  .colab-df-spinner {\n",
              "    border: 2px solid var(--fill-color);\n",
              "    border-color: transparent;\n",
              "    border-bottom-color: var(--fill-color);\n",
              "    animation:\n",
              "      spin 1s steps(1) infinite;\n",
              "  }\n",
              "\n",
              "  @keyframes spin {\n",
              "    0% {\n",
              "      border-color: transparent;\n",
              "      border-bottom-color: var(--fill-color);\n",
              "      border-left-color: var(--fill-color);\n",
              "    }\n",
              "    20% {\n",
              "      border-color: transparent;\n",
              "      border-left-color: var(--fill-color);\n",
              "      border-top-color: var(--fill-color);\n",
              "    }\n",
              "    30% {\n",
              "      border-color: transparent;\n",
              "      border-left-color: var(--fill-color);\n",
              "      border-top-color: var(--fill-color);\n",
              "      border-right-color: var(--fill-color);\n",
              "    }\n",
              "    40% {\n",
              "      border-color: transparent;\n",
              "      border-right-color: var(--fill-color);\n",
              "      border-top-color: var(--fill-color);\n",
              "    }\n",
              "    60% {\n",
              "      border-color: transparent;\n",
              "      border-right-color: var(--fill-color);\n",
              "    }\n",
              "    80% {\n",
              "      border-color: transparent;\n",
              "      border-right-color: var(--fill-color);\n",
              "      border-bottom-color: var(--fill-color);\n",
              "    }\n",
              "    90% {\n",
              "      border-color: transparent;\n",
              "      border-bottom-color: var(--fill-color);\n",
              "    }\n",
              "  }\n",
              "</style>\n",
              "\n",
              "      <script>\n",
              "        async function quickchart(key) {\n",
              "          const quickchartButtonEl =\n",
              "            document.querySelector('#' + key + ' button');\n",
              "          quickchartButtonEl.disabled = true;  // To prevent multiple clicks.\n",
              "          quickchartButtonEl.classList.add('colab-df-spinner');\n",
              "          try {\n",
              "            const charts = await google.colab.kernel.invokeFunction(\n",
              "                'suggestCharts', [key], {});\n",
              "          } catch (error) {\n",
              "            console.error('Error during call to suggestCharts:', error);\n",
              "          }\n",
              "          quickchartButtonEl.classList.remove('colab-df-spinner');\n",
              "          quickchartButtonEl.classList.add('colab-df-quickchart-complete');\n",
              "        }\n",
              "        (() => {\n",
              "          let quickchartButtonEl =\n",
              "            document.querySelector('#df-1d6525b7-7054-4361-975e-260f450b9506 button');\n",
              "          quickchartButtonEl.style.display =\n",
              "            google.colab.kernel.accessAllowed ? 'block' : 'none';\n",
              "        })();\n",
              "      </script>\n",
              "    </div>\n",
              "\n",
              "    </div>\n",
              "  </div>\n"
            ],
            "text/plain": [
              "                                                 product   brand\n",
              "21340  Aloe Vera Bathing Soap - With Vitamin E For So...   vivel\n",
              "3678   Body Wash - Lavender & Almond Oil, Nourishing ...   vivel\n",
              "4271     Body Wash - Lavender & Almond Oil, Shower Creme   vivel\n",
              "6604                         Body Wash - Mint & Cucumber   vivel\n",
              "10598  Body Wash - Lavender & Almond Oil, Nourishing ...   vivel\n",
              "18007          Body Wash - Mint & Cucumber, Shower Creme   vivel\n",
              "5858                           Neem & Lemon Bathing Soap  inatur\n",
              "7813                          Rose & Geranium Sugar Soap  inatur\n",
              "11592                                Jasmine Butter Soap  inatur\n",
              "17494                              Sandal & Vanilla Soap  inatur"
            ]
          },
          "execution_count": 26,
          "metadata": {},
          "output_type": "execute_result"
        }
      ],
      "source": [
        "product_indices = pd.Series(cbf_unique.index, index=cbf_unique['product'])\n",
        "\n",
        "def rekomendasi_produk(nama_produk, cosine_sim=cosine_sim_matrix, df=cbf_unique):\n",
        "    if nama_produk not in product_indices:\n",
        "        return f\"Produk '{nama_produk}' tidak ditemukan.\"\n",
        "\n",
        "    idx = product_indices[nama_produk]\n",
        "    sim_scores = list(enumerate(cosine_sim[idx]))\n",
        "    sim_scores = sorted(sim_scores, key=lambda x: x[1], reverse=True)[1:11]\n",
        "    top_indices = [i[0] for i in sim_scores]\n",
        "\n",
        "    return df.iloc[top_indices][['product', 'brand']]\n",
        "\n",
        "produk_acak = cbf_unique['product'].sample(1).values[0]\n",
        "print(f\"Rekomendasi produk mirip dengan: {produk_acak}\")\n",
        "rekomendasi_produk(produk_acak)"
      ]
    },
    {
      "cell_type": "markdown",
      "metadata": {
        "id": "timPZcimZjFs"
      },
      "source": [
        "Kode ini mendefinisikan fungsi `rekomendasi_produk()` yang menghasilkan 10 produk paling mirip dengan produk input berdasarkan cosine similarity dari fitur gabungan (hasil TF-IDF).\n",
        "\n",
        "Langkah-langkah:\n",
        "- Membuat indeks produk (`product_indices`) untuk mengakses baris data berdasarkan nama produk.\n",
        "- Dalam fungsi, dicek apakah produk tersedia.\n",
        "- Mengambil skor kemiripan (cosine similarity) terhadap seluruh produk.\n",
        "- Mengurutkan skor tersebut dan mengambil 10 produk teratas (kecuali dirinya sendiri).\n",
        "- Mengembalikan daftar produk dan brand sebagai hasil rekomendasi.\n",
        "\n",
        "Terakhir, fungsi diuji dengan memilih satu produk secara acak dari dataset."
      ]
    },
    {
      "cell_type": "markdown",
      "metadata": {
        "id": "TC0V6FqDIesq"
      },
      "source": [
        "## Evaluation"
      ]
    },
    {
      "cell_type": "code",
      "execution_count": 24,
      "metadata": {
        "id": "rU9lKd_Ys2GT"
      },
      "outputs": [],
      "source": [
        "# evaluasi Precision@k\n",
        "def precision_at_k_cbf(df, cosine_sim, k=10):\n",
        "    hits = 0\n",
        "    total = 0\n",
        "    recommended_items = set()\n",
        "\n",
        "    for idx, row in df.iterrows():\n",
        "        produk_asli = row['product']\n",
        "        kategori_asli = set(row['category'])\n",
        "\n",
        "        produk_idx = product_indices.get(produk_asli, None)\n",
        "        if produk_idx is None:\n",
        "            continue\n",
        "\n",
        "        sim_scores = list(enumerate(cosine_sim[produk_idx]))\n",
        "        sim_scores = sorted(sim_scores, key=lambda x: x[1], reverse=True)[1:k+1]\n",
        "        top_indices = [i[0] for i in sim_scores]\n",
        "\n",
        "        rekomendasi = df.iloc[top_indices]\n",
        "\n",
        "        for _, rec in rekomendasi.iterrows():\n",
        "            if set(rec['category']) & kategori_asli:\n",
        "                hits += 1\n",
        "            recommended_items.add(rec['product'])\n",
        "\n",
        "        total += k\n",
        "\n",
        "    precision = hits / total if total else 0\n",
        "    coverage = len(recommended_items) / df['product'].nunique()\n",
        "    return precision, coverage"
      ]
    },
    {
      "cell_type": "markdown",
      "metadata": {
        "id": "5ZhEHpbybncb"
      },
      "source": [
        "\n",
        "Untuk mengevaluasi performa sistem rekomendasi CBF, digunakan metrik **Precision@k** dan **Coverage**.\n",
        "\n",
        "- **Precision@k**: Mengukur proporsi item rekomendasi yang termasuk dalam kategori yang sama dengan produk asli. Ini mencerminkan relevansi rekomendasi.\n",
        "- **Coverage**: Mengukur sejauh mana sistem merekomendasikan beragam produk dari keseluruhan dataset.\n",
        "\n",
        "Fungsi `precision_at_k_cbf()` akan menghitung kedua metrik ini berdasarkan kesamaan kategori antara produk asli dan hasil rekomendasinya.\n",
        "\n",
        "Fungsi ini mengevaluasi top-k rekomendasi dari setiap produk berdasarkan cosine similarity.\n",
        "\n",
        "hits bertambah jika kategori produk rekomendasi memiliki irisan dengan kategori produk asli.\n",
        "\n",
        "recommended_items digunakan untuk menghitung seberapa luas cakupan rekomendasi yang diberikan (coverage)."
      ]
    },
    {
      "cell_type": "code",
      "execution_count": 25,
      "metadata": {
        "colab": {
          "base_uri": "https://localhost:8080/"
        },
        "id": "LPnh0ZOus2Ir",
        "outputId": "16f986de-11d8-427f-f636-1100fec9b57b"
      },
      "outputs": [
        {
          "name": "stdout",
          "output_type": "stream",
          "text": [
            "Precision@10: 0.9988\n",
            "Coverage: 0.6901\n"
          ]
        }
      ],
      "source": [
        "  precision, coverage = precision_at_k_cbf(cbf_unique, cosine_sim_matrix, k=10)\n",
        "\n",
        "  print(f\"Precision@10: {precision:.4f}\")\n",
        "  print(f\"Coverage: {coverage:.4f}\")"
      ]
    },
    {
      "cell_type": "markdown",
      "metadata": {
        "id": "F-JfOYPUb41s"
      },
      "source": [
        "Evaluasi sistem rekomendasi CBF dilakukan menggunakan metrik **Precision@10** dan **Coverage**.\n",
        "\n",
        "- **Precision@10** sebesar **0.9988** menunjukkan bahwa hampir semua produk yang direkomendasikan berada dalam kategori yang sama dengan produk input, yang mengindikasikan bahwa rekomendasi sangat relevan.\n",
        "- **Coverage** sebesar **0.6901** berarti sistem berhasil merekomendasikan sekitar 69% dari total produk unik yang tersedia, mencerminkan jangkauan rekomendasi yang cukup luas."
      ]
    }
  ],
  "metadata": {
    "colab": {
      "provenance": []
    },
    "kernelspec": {
      "display_name": "Python 3",
      "name": "python3"
    },
    "language_info": {
      "name": "python"
    }
  },
  "nbformat": 4,
  "nbformat_minor": 0
}
